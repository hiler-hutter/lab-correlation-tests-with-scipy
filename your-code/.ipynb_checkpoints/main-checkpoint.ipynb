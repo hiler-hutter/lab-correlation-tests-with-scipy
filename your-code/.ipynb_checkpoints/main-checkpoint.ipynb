{
 "cells": [
  {
   "cell_type": "markdown",
   "metadata": {},
   "source": [
    "# Before your start:\n",
    "- Read the README.md file\n",
    "- Comment as much as you can and use the resources (README.md file)\n",
    "- Happy learning!"
   ]
  },
  {
   "cell_type": "code",
   "execution_count": 155,
   "metadata": {},
   "outputs": [],
   "source": [
    "#Importamos todas las librerias necesarias para realizar este laboratorio\n",
    "\n",
    "%matplotlib inline\n",
    "# import numpy and pandas\n",
    "import pandas as pd\n",
    "import numpy as np\n",
    "import re\n",
    "\n",
    "import matplotlib.pyplot as plt\n",
    "\n",
    "from scipy.stats import f_oneway, f\n",
    "\n",
    "import statsmodels.api as sm\n",
    "from statsmodels.formula.api import ols \n",
    "\n",
    "import warnings\n",
    "warnings.simplefilter('ignore')\n",
    "\n",
    "import seaborn as sns\n",
    "\n",
    "from scipy.stats import norm\n",
    "\n",
    "from sklearn.model_selection import train_test_split\n",
    "from sklearn.linear_model import LinearRegression\n",
    "from sklearn.metrics import mean_squared_error, r2_score"
   ]
  },
  {
   "cell_type": "markdown",
   "metadata": {},
   "source": [
    "# Challenge 1 - Analysis of Variance\n",
    "\n",
    "In this part of the lesson, we will perform an analysis of variance to determine whether the factors in our model create a significant difference in the group means. We will be examining a dataset of FIFA players. We'll start by loading the data using the code in the cell below."
   ]
  },
  {
   "cell_type": "code",
   "execution_count": 118,
   "metadata": {},
   "outputs": [],
   "source": [
    "# Run this code:\n",
    "\n",
    "fifa = pd.read_csv('fifa.csv') #procedemos a leer nuestro dataset"
   ]
  },
  {
   "cell_type": "markdown",
   "metadata": {},
   "source": [
    "Let's examine the dataset by looking at the `head`."
   ]
  },
  {
   "cell_type": "code",
   "execution_count": 119,
   "metadata": {},
   "outputs": [
    {
     "data": {
      "text/html": [
       "<div>\n",
       "<style scoped>\n",
       "    .dataframe tbody tr th:only-of-type {\n",
       "        vertical-align: middle;\n",
       "    }\n",
       "\n",
       "    .dataframe tbody tr th {\n",
       "        vertical-align: top;\n",
       "    }\n",
       "\n",
       "    .dataframe thead th {\n",
       "        text-align: right;\n",
       "    }\n",
       "</style>\n",
       "<table border=\"1\" class=\"dataframe\">\n",
       "  <thead>\n",
       "    <tr style=\"text-align: right;\">\n",
       "      <th></th>\n",
       "      <th>Name</th>\n",
       "      <th>Age</th>\n",
       "      <th>Nationality</th>\n",
       "      <th>Overall</th>\n",
       "      <th>Potential</th>\n",
       "      <th>Club</th>\n",
       "      <th>Value</th>\n",
       "      <th>Preferred Foot</th>\n",
       "      <th>Position</th>\n",
       "      <th>Weak Foot</th>\n",
       "      <th>Acceleration</th>\n",
       "      <th>SprintSpeed</th>\n",
       "      <th>Stamina</th>\n",
       "      <th>Strength</th>\n",
       "      <th>LongShots</th>\n",
       "      <th>Aggression</th>\n",
       "      <th>Interceptions</th>\n",
       "      <th>Positioning</th>\n",
       "      <th>Vision</th>\n",
       "      <th>Penalties</th>\n",
       "    </tr>\n",
       "  </thead>\n",
       "  <tbody>\n",
       "    <tr>\n",
       "      <th>0</th>\n",
       "      <td>L. Messi</td>\n",
       "      <td>31</td>\n",
       "      <td>Argentina</td>\n",
       "      <td>94</td>\n",
       "      <td>94</td>\n",
       "      <td>FC Barcelona</td>\n",
       "      <td>€110.5M</td>\n",
       "      <td>Left</td>\n",
       "      <td>RF</td>\n",
       "      <td>4.0</td>\n",
       "      <td>91.0</td>\n",
       "      <td>86.0</td>\n",
       "      <td>72.0</td>\n",
       "      <td>59.0</td>\n",
       "      <td>94.0</td>\n",
       "      <td>48.0</td>\n",
       "      <td>22.0</td>\n",
       "      <td>94.0</td>\n",
       "      <td>94.0</td>\n",
       "      <td>75.0</td>\n",
       "    </tr>\n",
       "    <tr>\n",
       "      <th>1</th>\n",
       "      <td>Cristiano Ronaldo</td>\n",
       "      <td>33</td>\n",
       "      <td>Portugal</td>\n",
       "      <td>94</td>\n",
       "      <td>94</td>\n",
       "      <td>Juventus</td>\n",
       "      <td>€77M</td>\n",
       "      <td>Right</td>\n",
       "      <td>ST</td>\n",
       "      <td>4.0</td>\n",
       "      <td>89.0</td>\n",
       "      <td>91.0</td>\n",
       "      <td>88.0</td>\n",
       "      <td>79.0</td>\n",
       "      <td>93.0</td>\n",
       "      <td>63.0</td>\n",
       "      <td>29.0</td>\n",
       "      <td>95.0</td>\n",
       "      <td>82.0</td>\n",
       "      <td>85.0</td>\n",
       "    </tr>\n",
       "    <tr>\n",
       "      <th>2</th>\n",
       "      <td>Neymar Jr</td>\n",
       "      <td>26</td>\n",
       "      <td>Brazil</td>\n",
       "      <td>92</td>\n",
       "      <td>93</td>\n",
       "      <td>Paris Saint-Germain</td>\n",
       "      <td>€118.5M</td>\n",
       "      <td>Right</td>\n",
       "      <td>LW</td>\n",
       "      <td>5.0</td>\n",
       "      <td>94.0</td>\n",
       "      <td>90.0</td>\n",
       "      <td>81.0</td>\n",
       "      <td>49.0</td>\n",
       "      <td>82.0</td>\n",
       "      <td>56.0</td>\n",
       "      <td>36.0</td>\n",
       "      <td>89.0</td>\n",
       "      <td>87.0</td>\n",
       "      <td>81.0</td>\n",
       "    </tr>\n",
       "    <tr>\n",
       "      <th>3</th>\n",
       "      <td>De Gea</td>\n",
       "      <td>27</td>\n",
       "      <td>Spain</td>\n",
       "      <td>91</td>\n",
       "      <td>93</td>\n",
       "      <td>Manchester United</td>\n",
       "      <td>€72M</td>\n",
       "      <td>Right</td>\n",
       "      <td>GK</td>\n",
       "      <td>3.0</td>\n",
       "      <td>57.0</td>\n",
       "      <td>58.0</td>\n",
       "      <td>43.0</td>\n",
       "      <td>64.0</td>\n",
       "      <td>12.0</td>\n",
       "      <td>38.0</td>\n",
       "      <td>30.0</td>\n",
       "      <td>12.0</td>\n",
       "      <td>68.0</td>\n",
       "      <td>40.0</td>\n",
       "    </tr>\n",
       "    <tr>\n",
       "      <th>4</th>\n",
       "      <td>K. De Bruyne</td>\n",
       "      <td>27</td>\n",
       "      <td>Belgium</td>\n",
       "      <td>91</td>\n",
       "      <td>92</td>\n",
       "      <td>Manchester City</td>\n",
       "      <td>€102M</td>\n",
       "      <td>Right</td>\n",
       "      <td>RCM</td>\n",
       "      <td>5.0</td>\n",
       "      <td>78.0</td>\n",
       "      <td>76.0</td>\n",
       "      <td>90.0</td>\n",
       "      <td>75.0</td>\n",
       "      <td>91.0</td>\n",
       "      <td>76.0</td>\n",
       "      <td>61.0</td>\n",
       "      <td>87.0</td>\n",
       "      <td>94.0</td>\n",
       "      <td>79.0</td>\n",
       "    </tr>\n",
       "  </tbody>\n",
       "</table>\n",
       "</div>"
      ],
      "text/plain": [
       "                Name  Age Nationality  Overall  Potential  \\\n",
       "0           L. Messi   31   Argentina       94         94   \n",
       "1  Cristiano Ronaldo   33    Portugal       94         94   \n",
       "2          Neymar Jr   26      Brazil       92         93   \n",
       "3             De Gea   27       Spain       91         93   \n",
       "4       K. De Bruyne   27     Belgium       91         92   \n",
       "\n",
       "                  Club    Value Preferred Foot Position  Weak Foot  \\\n",
       "0         FC Barcelona  €110.5M           Left       RF        4.0   \n",
       "1             Juventus     €77M          Right       ST        4.0   \n",
       "2  Paris Saint-Germain  €118.5M          Right       LW        5.0   \n",
       "3    Manchester United     €72M          Right       GK        3.0   \n",
       "4      Manchester City    €102M          Right      RCM        5.0   \n",
       "\n",
       "   Acceleration  SprintSpeed  Stamina  Strength  LongShots  Aggression  \\\n",
       "0          91.0         86.0     72.0      59.0       94.0        48.0   \n",
       "1          89.0         91.0     88.0      79.0       93.0        63.0   \n",
       "2          94.0         90.0     81.0      49.0       82.0        56.0   \n",
       "3          57.0         58.0     43.0      64.0       12.0        38.0   \n",
       "4          78.0         76.0     90.0      75.0       91.0        76.0   \n",
       "\n",
       "   Interceptions  Positioning  Vision  Penalties  \n",
       "0           22.0         94.0    94.0       75.0  \n",
       "1           29.0         95.0    82.0       85.0  \n",
       "2           36.0         89.0    87.0       81.0  \n",
       "3           30.0         12.0    68.0       40.0  \n",
       "4           61.0         87.0    94.0       79.0  "
      ]
     },
     "execution_count": 119,
     "metadata": {},
     "output_type": "execute_result"
    }
   ],
   "source": [
    "# Your code here:\n",
    "fifa.head() #Inspeccionamos nuestro dataset"
   ]
  },
  {
   "cell_type": "markdown",
   "metadata": {},
   "source": [
    "Player's values are expressed in millions of euros. We would like this column to be numeric. Therefore, let's create a numeric value column. Do this by stripping all non-numeric characters from each cell. Assign this new data to `ValueNumeric`. There is no need to multiply the value to be expressed in millions. "
   ]
  },
  {
   "cell_type": "code",
   "execution_count": 120,
   "metadata": {},
   "outputs": [
    {
     "name": "stdout",
     "output_type": "stream",
     "text": [
      "<class 'pandas.core.frame.DataFrame'>\n",
      "RangeIndex: 18207 entries, 0 to 18206\n",
      "Data columns (total 20 columns):\n",
      " #   Column          Non-Null Count  Dtype  \n",
      "---  ------          --------------  -----  \n",
      " 0   Name            18207 non-null  object \n",
      " 1   Age             18207 non-null  int64  \n",
      " 2   Nationality     18207 non-null  object \n",
      " 3   Overall         18207 non-null  int64  \n",
      " 4   Potential       18207 non-null  int64  \n",
      " 5   Club            17966 non-null  object \n",
      " 6   Value           18207 non-null  object \n",
      " 7   Preferred Foot  18159 non-null  object \n",
      " 8   Position        18147 non-null  object \n",
      " 9   Weak Foot       18159 non-null  float64\n",
      " 10  Acceleration    18159 non-null  float64\n",
      " 11  SprintSpeed     18159 non-null  float64\n",
      " 12  Stamina         18159 non-null  float64\n",
      " 13  Strength        18159 non-null  float64\n",
      " 14  LongShots       18159 non-null  float64\n",
      " 15  Aggression      18159 non-null  float64\n",
      " 16  Interceptions   18159 non-null  float64\n",
      " 17  Positioning     18159 non-null  float64\n",
      " 18  Vision          18159 non-null  float64\n",
      " 19  Penalties       18159 non-null  float64\n",
      "dtypes: float64(11), int64(3), object(6)\n",
      "memory usage: 2.8+ MB\n"
     ]
    }
   ],
   "source": [
    "# Your code here:\n",
    "fifa.info()"
   ]
  },
  {
   "cell_type": "code",
   "execution_count": 121,
   "metadata": {},
   "outputs": [
    {
     "data": {
      "text/html": [
       "<div>\n",
       "<style scoped>\n",
       "    .dataframe tbody tr th:only-of-type {\n",
       "        vertical-align: middle;\n",
       "    }\n",
       "\n",
       "    .dataframe tbody tr th {\n",
       "        vertical-align: top;\n",
       "    }\n",
       "\n",
       "    .dataframe thead th {\n",
       "        text-align: right;\n",
       "    }\n",
       "</style>\n",
       "<table border=\"1\" class=\"dataframe\">\n",
       "  <thead>\n",
       "    <tr style=\"text-align: right;\">\n",
       "      <th></th>\n",
       "      <th>Name</th>\n",
       "      <th>Age</th>\n",
       "      <th>Nationality</th>\n",
       "      <th>Overall</th>\n",
       "      <th>Potential</th>\n",
       "      <th>Club</th>\n",
       "      <th>Value</th>\n",
       "      <th>Preferred Foot</th>\n",
       "      <th>Position</th>\n",
       "      <th>Weak Foot</th>\n",
       "      <th>Acceleration</th>\n",
       "      <th>SprintSpeed</th>\n",
       "      <th>Stamina</th>\n",
       "      <th>Strength</th>\n",
       "      <th>LongShots</th>\n",
       "      <th>Aggression</th>\n",
       "      <th>Interceptions</th>\n",
       "      <th>Positioning</th>\n",
       "      <th>Vision</th>\n",
       "      <th>Penalties</th>\n",
       "    </tr>\n",
       "  </thead>\n",
       "  <tbody>\n",
       "    <tr>\n",
       "      <th>0</th>\n",
       "      <td>L. Messi</td>\n",
       "      <td>31</td>\n",
       "      <td>Argentina</td>\n",
       "      <td>94</td>\n",
       "      <td>94</td>\n",
       "      <td>FC Barcelona</td>\n",
       "      <td>110.5</td>\n",
       "      <td>Left</td>\n",
       "      <td>RF</td>\n",
       "      <td>4.0</td>\n",
       "      <td>91.0</td>\n",
       "      <td>86.0</td>\n",
       "      <td>72.0</td>\n",
       "      <td>59.0</td>\n",
       "      <td>94.0</td>\n",
       "      <td>48.0</td>\n",
       "      <td>22.0</td>\n",
       "      <td>94.0</td>\n",
       "      <td>94.0</td>\n",
       "      <td>75.0</td>\n",
       "    </tr>\n",
       "    <tr>\n",
       "      <th>1</th>\n",
       "      <td>Cristiano Ronaldo</td>\n",
       "      <td>33</td>\n",
       "      <td>Portugal</td>\n",
       "      <td>94</td>\n",
       "      <td>94</td>\n",
       "      <td>Juventus</td>\n",
       "      <td>77.0</td>\n",
       "      <td>Right</td>\n",
       "      <td>ST</td>\n",
       "      <td>4.0</td>\n",
       "      <td>89.0</td>\n",
       "      <td>91.0</td>\n",
       "      <td>88.0</td>\n",
       "      <td>79.0</td>\n",
       "      <td>93.0</td>\n",
       "      <td>63.0</td>\n",
       "      <td>29.0</td>\n",
       "      <td>95.0</td>\n",
       "      <td>82.0</td>\n",
       "      <td>85.0</td>\n",
       "    </tr>\n",
       "    <tr>\n",
       "      <th>2</th>\n",
       "      <td>Neymar Jr</td>\n",
       "      <td>26</td>\n",
       "      <td>Brazil</td>\n",
       "      <td>92</td>\n",
       "      <td>93</td>\n",
       "      <td>Paris Saint-Germain</td>\n",
       "      <td>118.5</td>\n",
       "      <td>Right</td>\n",
       "      <td>LW</td>\n",
       "      <td>5.0</td>\n",
       "      <td>94.0</td>\n",
       "      <td>90.0</td>\n",
       "      <td>81.0</td>\n",
       "      <td>49.0</td>\n",
       "      <td>82.0</td>\n",
       "      <td>56.0</td>\n",
       "      <td>36.0</td>\n",
       "      <td>89.0</td>\n",
       "      <td>87.0</td>\n",
       "      <td>81.0</td>\n",
       "    </tr>\n",
       "    <tr>\n",
       "      <th>3</th>\n",
       "      <td>De Gea</td>\n",
       "      <td>27</td>\n",
       "      <td>Spain</td>\n",
       "      <td>91</td>\n",
       "      <td>93</td>\n",
       "      <td>Manchester United</td>\n",
       "      <td>72.0</td>\n",
       "      <td>Right</td>\n",
       "      <td>GK</td>\n",
       "      <td>3.0</td>\n",
       "      <td>57.0</td>\n",
       "      <td>58.0</td>\n",
       "      <td>43.0</td>\n",
       "      <td>64.0</td>\n",
       "      <td>12.0</td>\n",
       "      <td>38.0</td>\n",
       "      <td>30.0</td>\n",
       "      <td>12.0</td>\n",
       "      <td>68.0</td>\n",
       "      <td>40.0</td>\n",
       "    </tr>\n",
       "    <tr>\n",
       "      <th>4</th>\n",
       "      <td>K. De Bruyne</td>\n",
       "      <td>27</td>\n",
       "      <td>Belgium</td>\n",
       "      <td>91</td>\n",
       "      <td>92</td>\n",
       "      <td>Manchester City</td>\n",
       "      <td>102.0</td>\n",
       "      <td>Right</td>\n",
       "      <td>RCM</td>\n",
       "      <td>5.0</td>\n",
       "      <td>78.0</td>\n",
       "      <td>76.0</td>\n",
       "      <td>90.0</td>\n",
       "      <td>75.0</td>\n",
       "      <td>91.0</td>\n",
       "      <td>76.0</td>\n",
       "      <td>61.0</td>\n",
       "      <td>87.0</td>\n",
       "      <td>94.0</td>\n",
       "      <td>79.0</td>\n",
       "    </tr>\n",
       "    <tr>\n",
       "      <th>...</th>\n",
       "      <td>...</td>\n",
       "      <td>...</td>\n",
       "      <td>...</td>\n",
       "      <td>...</td>\n",
       "      <td>...</td>\n",
       "      <td>...</td>\n",
       "      <td>...</td>\n",
       "      <td>...</td>\n",
       "      <td>...</td>\n",
       "      <td>...</td>\n",
       "      <td>...</td>\n",
       "      <td>...</td>\n",
       "      <td>...</td>\n",
       "      <td>...</td>\n",
       "      <td>...</td>\n",
       "      <td>...</td>\n",
       "      <td>...</td>\n",
       "      <td>...</td>\n",
       "      <td>...</td>\n",
       "      <td>...</td>\n",
       "    </tr>\n",
       "    <tr>\n",
       "      <th>18202</th>\n",
       "      <td>J. Lundstram</td>\n",
       "      <td>19</td>\n",
       "      <td>England</td>\n",
       "      <td>47</td>\n",
       "      <td>65</td>\n",
       "      <td>Crewe Alexandra</td>\n",
       "      <td>60.0</td>\n",
       "      <td>Right</td>\n",
       "      <td>CM</td>\n",
       "      <td>2.0</td>\n",
       "      <td>54.0</td>\n",
       "      <td>57.0</td>\n",
       "      <td>40.0</td>\n",
       "      <td>47.0</td>\n",
       "      <td>38.0</td>\n",
       "      <td>46.0</td>\n",
       "      <td>46.0</td>\n",
       "      <td>39.0</td>\n",
       "      <td>52.0</td>\n",
       "      <td>43.0</td>\n",
       "    </tr>\n",
       "    <tr>\n",
       "      <th>18203</th>\n",
       "      <td>N. Christoffersson</td>\n",
       "      <td>19</td>\n",
       "      <td>Sweden</td>\n",
       "      <td>47</td>\n",
       "      <td>63</td>\n",
       "      <td>Trelleborgs FF</td>\n",
       "      <td>60.0</td>\n",
       "      <td>Right</td>\n",
       "      <td>ST</td>\n",
       "      <td>2.0</td>\n",
       "      <td>41.0</td>\n",
       "      <td>39.0</td>\n",
       "      <td>43.0</td>\n",
       "      <td>67.0</td>\n",
       "      <td>42.0</td>\n",
       "      <td>47.0</td>\n",
       "      <td>16.0</td>\n",
       "      <td>46.0</td>\n",
       "      <td>33.0</td>\n",
       "      <td>43.0</td>\n",
       "    </tr>\n",
       "    <tr>\n",
       "      <th>18204</th>\n",
       "      <td>B. Worman</td>\n",
       "      <td>16</td>\n",
       "      <td>England</td>\n",
       "      <td>47</td>\n",
       "      <td>67</td>\n",
       "      <td>Cambridge United</td>\n",
       "      <td>60.0</td>\n",
       "      <td>Right</td>\n",
       "      <td>ST</td>\n",
       "      <td>3.0</td>\n",
       "      <td>70.0</td>\n",
       "      <td>69.0</td>\n",
       "      <td>55.0</td>\n",
       "      <td>32.0</td>\n",
       "      <td>45.0</td>\n",
       "      <td>32.0</td>\n",
       "      <td>15.0</td>\n",
       "      <td>48.0</td>\n",
       "      <td>43.0</td>\n",
       "      <td>55.0</td>\n",
       "    </tr>\n",
       "    <tr>\n",
       "      <th>18205</th>\n",
       "      <td>D. Walker-Rice</td>\n",
       "      <td>17</td>\n",
       "      <td>England</td>\n",
       "      <td>47</td>\n",
       "      <td>66</td>\n",
       "      <td>Tranmere Rovers</td>\n",
       "      <td>60.0</td>\n",
       "      <td>Right</td>\n",
       "      <td>RW</td>\n",
       "      <td>3.0</td>\n",
       "      <td>61.0</td>\n",
       "      <td>60.0</td>\n",
       "      <td>40.0</td>\n",
       "      <td>48.0</td>\n",
       "      <td>34.0</td>\n",
       "      <td>33.0</td>\n",
       "      <td>22.0</td>\n",
       "      <td>44.0</td>\n",
       "      <td>47.0</td>\n",
       "      <td>50.0</td>\n",
       "    </tr>\n",
       "    <tr>\n",
       "      <th>18206</th>\n",
       "      <td>G. Nugent</td>\n",
       "      <td>16</td>\n",
       "      <td>England</td>\n",
       "      <td>46</td>\n",
       "      <td>66</td>\n",
       "      <td>Tranmere Rovers</td>\n",
       "      <td>60.0</td>\n",
       "      <td>Right</td>\n",
       "      <td>CM</td>\n",
       "      <td>3.0</td>\n",
       "      <td>57.0</td>\n",
       "      <td>55.0</td>\n",
       "      <td>47.0</td>\n",
       "      <td>60.0</td>\n",
       "      <td>32.0</td>\n",
       "      <td>56.0</td>\n",
       "      <td>42.0</td>\n",
       "      <td>34.0</td>\n",
       "      <td>49.0</td>\n",
       "      <td>33.0</td>\n",
       "    </tr>\n",
       "  </tbody>\n",
       "</table>\n",
       "<p>18207 rows × 20 columns</p>\n",
       "</div>"
      ],
      "text/plain": [
       "                     Name  Age Nationality  Overall  Potential  \\\n",
       "0                L. Messi   31   Argentina       94         94   \n",
       "1       Cristiano Ronaldo   33    Portugal       94         94   \n",
       "2               Neymar Jr   26      Brazil       92         93   \n",
       "3                  De Gea   27       Spain       91         93   \n",
       "4            K. De Bruyne   27     Belgium       91         92   \n",
       "...                   ...  ...         ...      ...        ...   \n",
       "18202        J. Lundstram   19     England       47         65   \n",
       "18203  N. Christoffersson   19      Sweden       47         63   \n",
       "18204           B. Worman   16     England       47         67   \n",
       "18205      D. Walker-Rice   17     England       47         66   \n",
       "18206           G. Nugent   16     England       46         66   \n",
       "\n",
       "                      Club  Value Preferred Foot Position  Weak Foot  \\\n",
       "0             FC Barcelona  110.5           Left       RF        4.0   \n",
       "1                 Juventus   77.0          Right       ST        4.0   \n",
       "2      Paris Saint-Germain  118.5          Right       LW        5.0   \n",
       "3        Manchester United   72.0          Right       GK        3.0   \n",
       "4          Manchester City  102.0          Right      RCM        5.0   \n",
       "...                    ...    ...            ...      ...        ...   \n",
       "18202      Crewe Alexandra   60.0          Right       CM        2.0   \n",
       "18203       Trelleborgs FF   60.0          Right       ST        2.0   \n",
       "18204     Cambridge United   60.0          Right       ST        3.0   \n",
       "18205      Tranmere Rovers   60.0          Right       RW        3.0   \n",
       "18206      Tranmere Rovers   60.0          Right       CM        3.0   \n",
       "\n",
       "       Acceleration  SprintSpeed  Stamina  Strength  LongShots  Aggression  \\\n",
       "0              91.0         86.0     72.0      59.0       94.0        48.0   \n",
       "1              89.0         91.0     88.0      79.0       93.0        63.0   \n",
       "2              94.0         90.0     81.0      49.0       82.0        56.0   \n",
       "3              57.0         58.0     43.0      64.0       12.0        38.0   \n",
       "4              78.0         76.0     90.0      75.0       91.0        76.0   \n",
       "...             ...          ...      ...       ...        ...         ...   \n",
       "18202          54.0         57.0     40.0      47.0       38.0        46.0   \n",
       "18203          41.0         39.0     43.0      67.0       42.0        47.0   \n",
       "18204          70.0         69.0     55.0      32.0       45.0        32.0   \n",
       "18205          61.0         60.0     40.0      48.0       34.0        33.0   \n",
       "18206          57.0         55.0     47.0      60.0       32.0        56.0   \n",
       "\n",
       "       Interceptions  Positioning  Vision  Penalties  \n",
       "0               22.0         94.0    94.0       75.0  \n",
       "1               29.0         95.0    82.0       85.0  \n",
       "2               36.0         89.0    87.0       81.0  \n",
       "3               30.0         12.0    68.0       40.0  \n",
       "4               61.0         87.0    94.0       79.0  \n",
       "...              ...          ...     ...        ...  \n",
       "18202           46.0         39.0    52.0       43.0  \n",
       "18203           16.0         46.0    33.0       43.0  \n",
       "18204           15.0         48.0    43.0       55.0  \n",
       "18205           22.0         44.0    47.0       50.0  \n",
       "18206           42.0         34.0    49.0       33.0  \n",
       "\n",
       "[18207 rows x 20 columns]"
      ]
     },
     "execution_count": 121,
     "metadata": {},
     "output_type": "execute_result"
    }
   ],
   "source": [
    "#con este codigo aplicando regex eliminamos los simbolos de la columna Value y ademas la convertimos en float\n",
    "fifa['Value'] = fifa['Value'].str.extract('([0-9.]+)').astype(float)\n",
    "fifa"
   ]
  },
  {
   "cell_type": "code",
   "execution_count": 96,
   "metadata": {},
   "outputs": [
    {
     "name": "stdout",
     "output_type": "stream",
     "text": [
      "<class 'pandas.core.frame.DataFrame'>\n",
      "RangeIndex: 18207 entries, 0 to 18206\n",
      "Data columns (total 20 columns):\n",
      " #   Column          Non-Null Count  Dtype  \n",
      "---  ------          --------------  -----  \n",
      " 0   Name            18207 non-null  object \n",
      " 1   Age             18207 non-null  int64  \n",
      " 2   Nationality     18207 non-null  object \n",
      " 3   Overall         18207 non-null  int64  \n",
      " 4   Potential       18207 non-null  int64  \n",
      " 5   Club            17966 non-null  object \n",
      " 6   Value           18207 non-null  float64\n",
      " 7   Preferred Foot  18159 non-null  object \n",
      " 8   Position        18147 non-null  object \n",
      " 9   Weak Foot       18159 non-null  float64\n",
      " 10  Acceleration    18159 non-null  float64\n",
      " 11  SprintSpeed     18159 non-null  float64\n",
      " 12  Stamina         18159 non-null  float64\n",
      " 13  Strength        18159 non-null  float64\n",
      " 14  LongShots       18159 non-null  float64\n",
      " 15  Aggression      18159 non-null  float64\n",
      " 16  Interceptions   18159 non-null  float64\n",
      " 17  Positioning     18159 non-null  float64\n",
      " 18  Vision          18159 non-null  float64\n",
      " 19  Penalties       18159 non-null  float64\n",
      "dtypes: float64(12), int64(3), object(5)\n",
      "memory usage: 2.8+ MB\n"
     ]
    }
   ],
   "source": [
    "fifa.info()"
   ]
  },
  {
   "cell_type": "markdown",
   "metadata": {},
   "source": [
    "#### We'd like to determine whether a player's preffered foot and position have an impact on their value. \n",
    "\n",
    "Using the `statsmodels` library, we are able to produce an ANOVA table without munging our data. Create an ANOVA table with value as a function of position and preferred foot. Recall that pivoting is performed by the `C` function.\n",
    "\n",
    "Hint: For columns that have a space in their name, it is best to refer to the column using the dataframe (For example: for column `A`, we will use `df['A']`)."
   ]
  },
  {
   "cell_type": "code",
   "execution_count": 122,
   "metadata": {},
   "outputs": [
    {
     "data": {
      "text/plain": [
       "array(['RF', 'ST', 'LW', 'GK', 'RCM', 'LF', 'RS', 'RCB', 'LCM', 'CB',\n",
       "       'LDM', 'CAM', 'CDM', 'LS', 'LCB', 'RM', 'LAM', 'LM', 'LB', 'RDM',\n",
       "       'RW', 'CM', 'RB', 'RAM', 'CF', 'RWB', 'LWB', nan], dtype=object)"
      ]
     },
     "execution_count": 122,
     "metadata": {},
     "output_type": "execute_result"
    }
   ],
   "source": [
    "# Your code here:\n",
    "grupos = fifa.Position.unique() #agrupamos las posiciones de los jugadores\n",
    "grupos"
   ]
  },
  {
   "cell_type": "code",
   "execution_count": 123,
   "metadata": {},
   "outputs": [
    {
     "data": {
      "text/plain": [
       "array(['Left', 'Right', nan], dtype=object)"
      ]
     },
     "execution_count": 123,
     "metadata": {},
     "output_type": "execute_result"
    }
   ],
   "source": [
    "grupos1 = fifa['Preferred Foot'].unique() #agrupamos la columna de los pies de jugadores\n",
    "grupos1"
   ]
  },
  {
   "cell_type": "code",
   "execution_count": 124,
   "metadata": {},
   "outputs": [
    {
     "name": "stdout",
     "output_type": "stream",
     "text": [
      "<class 'pandas.core.frame.DataFrame'>\n",
      "RangeIndex: 18207 entries, 0 to 18206\n",
      "Data columns (total 20 columns):\n",
      " #   Column         Non-Null Count  Dtype  \n",
      "---  ------         --------------  -----  \n",
      " 0   Name           18207 non-null  object \n",
      " 1   Age            18207 non-null  int64  \n",
      " 2   Nationality    18207 non-null  object \n",
      " 3   Overall        18207 non-null  int64  \n",
      " 4   Potential      18207 non-null  int64  \n",
      " 5   Club           17966 non-null  object \n",
      " 6   Value          18207 non-null  float64\n",
      " 7   PreferredFoot  18159 non-null  object \n",
      " 8   Position       18147 non-null  object \n",
      " 9   Weak Foot      18159 non-null  float64\n",
      " 10  Acceleration   18159 non-null  float64\n",
      " 11  SprintSpeed    18159 non-null  float64\n",
      " 12  Stamina        18159 non-null  float64\n",
      " 13  Strength       18159 non-null  float64\n",
      " 14  LongShots      18159 non-null  float64\n",
      " 15  Aggression     18159 non-null  float64\n",
      " 16  Interceptions  18159 non-null  float64\n",
      " 17  Positioning    18159 non-null  float64\n",
      " 18  Vision         18159 non-null  float64\n",
      " 19  Penalties      18159 non-null  float64\n",
      "dtypes: float64(12), int64(3), object(5)\n",
      "memory usage: 2.8+ MB\n"
     ]
    }
   ],
   "source": [
    "#renombramos la columna Preferred Foot\n",
    "fifa.rename(columns={'Preferred Foot':'PreferredFoot'}, inplace=True) #renombramos la columna Preferred Foot\n",
    "fifa.info()"
   ]
  },
  {
   "cell_type": "code",
   "execution_count": 102,
   "metadata": {},
   "outputs": [
    {
     "data": {
      "text/html": [
       "<div>\n",
       "<style scoped>\n",
       "    .dataframe tbody tr th:only-of-type {\n",
       "        vertical-align: middle;\n",
       "    }\n",
       "\n",
       "    .dataframe tbody tr th {\n",
       "        vertical-align: top;\n",
       "    }\n",
       "\n",
       "    .dataframe thead th {\n",
       "        text-align: right;\n",
       "    }\n",
       "</style>\n",
       "<table border=\"1\" class=\"dataframe\">\n",
       "  <thead>\n",
       "    <tr style=\"text-align: right;\">\n",
       "      <th></th>\n",
       "      <th>sum_sq</th>\n",
       "      <th>df</th>\n",
       "      <th>F</th>\n",
       "      <th>PR(&gt;F)</th>\n",
       "    </tr>\n",
       "  </thead>\n",
       "  <tbody>\n",
       "    <tr>\n",
       "      <th>C(Position)</th>\n",
       "      <td>8.767522e+06</td>\n",
       "      <td>26.0</td>\n",
       "      <td>4.031426</td>\n",
       "      <td>2.192419e-11</td>\n",
       "    </tr>\n",
       "    <tr>\n",
       "      <th>C(PreferredFoot)</th>\n",
       "      <td>7.292211e+04</td>\n",
       "      <td>1.0</td>\n",
       "      <td>0.871795</td>\n",
       "      <td>3.504713e-01</td>\n",
       "    </tr>\n",
       "    <tr>\n",
       "      <th>Residual</th>\n",
       "      <td>1.515581e+09</td>\n",
       "      <td>18119.0</td>\n",
       "      <td>NaN</td>\n",
       "      <td>NaN</td>\n",
       "    </tr>\n",
       "  </tbody>\n",
       "</table>\n",
       "</div>"
      ],
      "text/plain": [
       "                        sum_sq       df         F        PR(>F)\n",
       "C(Position)       8.767522e+06     26.0  4.031426  2.192419e-11\n",
       "C(PreferredFoot)  7.292211e+04      1.0  0.871795  3.504713e-01\n",
       "Residual          1.515581e+09  18119.0       NaN           NaN"
      ]
     },
     "execution_count": 102,
     "metadata": {},
     "output_type": "execute_result"
    }
   ],
   "source": [
    "#Construimos un anova table para ver la significancia de las varianzas de las variables\n",
    "formula = 'Value ~ C(Position) + C(PreferredFoot)'\n",
    "model = ols(formula=formula, data=fifa).fit()\n",
    "anova_table = sm.stats.anova_lm(model, typ=2)\n",
    "anova_table"
   ]
  },
  {
   "cell_type": "markdown",
   "metadata": {},
   "source": [
    "What is your conclusion from this ANOVA?"
   ]
  },
  {
   "cell_type": "markdown",
   "metadata": {},
   "source": [
    "# Your conclusions here:\n",
    "Se concluye que no existe una diferencia estadistica significatica de las varianzas de las variables explicativas debido \n",
    "a que el valor de la probabilidad de PreferredFoot es mayor a 0.05."
   ]
  },
  {
   "cell_type": "markdown",
   "metadata": {},
   "source": [
    "After looking at a model of both preffered foot and position, we decide to create an ANOVA table for nationality. Create an ANOVA table for numeric value as a function of nationality."
   ]
  },
  {
   "cell_type": "code",
   "execution_count": 125,
   "metadata": {},
   "outputs": [
    {
     "data": {
      "text/plain": [
       "array(['Argentina', 'Portugal', 'Brazil', 'Spain', 'Belgium', 'Croatia',\n",
       "       'Uruguay', 'Slovenia', 'Poland', 'Germany', 'France', 'England',\n",
       "       'Italy', 'Egypt', 'Colombia', 'Denmark', 'Gabon', 'Wales',\n",
       "       'Senegal', 'Costa Rica', 'Slovakia', 'Netherlands',\n",
       "       'Bosnia Herzegovina', 'Morocco', 'Serbia', 'Algeria', 'Austria',\n",
       "       'Greece', 'Chile', 'Sweden', 'Korea Republic', 'Finland', 'Guinea',\n",
       "       'Montenegro', 'Armenia', 'Switzerland', 'Norway', 'Czech Republic',\n",
       "       'Scotland', 'Ghana', 'Central African Rep.', 'DR Congo',\n",
       "       'Ivory Coast', 'Russia', 'Ukraine', 'Iceland', 'Mexico', 'Jamaica',\n",
       "       'Albania', 'Venezuela', 'Japan', 'Turkey', 'Ecuador', 'Paraguay',\n",
       "       'Mali', 'Nigeria', 'Cameroon', 'Dominican Republic', 'Israel',\n",
       "       'Kenya', 'Hungary', 'Republic of Ireland', 'Romania',\n",
       "       'United States', 'Cape Verde', 'Australia', 'Peru', 'Togo',\n",
       "       'Syria', 'Zimbabwe', 'Angola', 'Burkina Faso', 'Iran', 'Estonia',\n",
       "       'Tunisia', 'Equatorial Guinea', 'New Zealand', 'FYR Macedonia',\n",
       "       'United Arab Emirates', 'China PR', 'Guinea Bissau', 'Bulgaria',\n",
       "       'Kosovo', 'South Africa', 'Madagascar', 'Georgia', 'Tanzania',\n",
       "       'Gambia', 'Cuba', 'Belarus', 'Uzbekistan', 'Benin', 'Congo',\n",
       "       'Mozambique', 'Honduras', 'Canada', 'Northern Ireland', 'Cyprus',\n",
       "       'Saudi Arabia', 'Curacao', 'Moldova', 'Bolivia',\n",
       "       'Trinidad & Tobago', 'Sierra Leone', 'Zambia', 'Chad',\n",
       "       'Philippines', 'Haiti', 'Comoros', 'Libya', 'Panama',\n",
       "       'São Tomé & Príncipe', 'Eritrea', 'Oman', 'Iraq', 'Burundi',\n",
       "       'Fiji', 'New Caledonia', 'Lithuania', 'Luxembourg', 'Korea DPR',\n",
       "       'Liechtenstein', 'St Kitts Nevis', 'Latvia', 'Suriname', 'Uganda',\n",
       "       'El Salvador', 'Bermuda', 'Kuwait', 'Antigua & Barbuda',\n",
       "       'Thailand', 'Mauritius', 'Guatemala', 'Liberia', 'Kazakhstan',\n",
       "       'Niger', 'Mauritania', 'Montserrat', 'Namibia', 'Azerbaijan',\n",
       "       'Guam', 'Faroe Islands', 'India', 'Nicaragua', 'Barbados',\n",
       "       'Lebanon', 'Palestine', 'Guyana', 'Sudan', 'St Lucia', 'Ethiopia',\n",
       "       'Puerto Rico', 'Grenada', 'Jordan', 'Rwanda', 'Qatar',\n",
       "       'Afghanistan', 'Hong Kong', 'Andorra', 'Malta', 'Belize',\n",
       "       'South Sudan', 'Indonesia', 'Botswana'], dtype=object)"
      ]
     },
     "execution_count": 125,
     "metadata": {},
     "output_type": "execute_result"
    }
   ],
   "source": [
    "#Observamos los valores unicos de la columna Nationality\n",
    "fifa.Nationality.unique()"
   ]
  },
  {
   "cell_type": "code",
   "execution_count": 20,
   "metadata": {},
   "outputs": [],
   "source": [
    "#Porque no se puede agrupar las nacioanlidades comose hizo con las ciudades en clases? ojo\n",
    "\n",
    "#fifa['nation_count'] = fifa.groupby('Nationality').cumcount()\n",
    "#fifa.head(50)"
   ]
  },
  {
   "cell_type": "code",
   "execution_count": 21,
   "metadata": {},
   "outputs": [],
   "source": [
    "#fifa_pivot = fifa.pivot(columns='Nationality', values='Value', index='nation_count')\n",
    "#fifa_pivot"
   ]
  },
  {
   "cell_type": "code",
   "execution_count": 22,
   "metadata": {},
   "outputs": [],
   "source": [
    "#f_oneway(*[fifa_pivot[i] for i in fifa_pivot.columns])"
   ]
  },
  {
   "cell_type": "code",
   "execution_count": 126,
   "metadata": {},
   "outputs": [
    {
     "data": {
      "text/html": [
       "<div>\n",
       "<style scoped>\n",
       "    .dataframe tbody tr th:only-of-type {\n",
       "        vertical-align: middle;\n",
       "    }\n",
       "\n",
       "    .dataframe tbody tr th {\n",
       "        vertical-align: top;\n",
       "    }\n",
       "\n",
       "    .dataframe thead th {\n",
       "        text-align: right;\n",
       "    }\n",
       "</style>\n",
       "<table border=\"1\" class=\"dataframe\">\n",
       "  <thead>\n",
       "    <tr style=\"text-align: right;\">\n",
       "      <th></th>\n",
       "      <th>df</th>\n",
       "      <th>sum_sq</th>\n",
       "      <th>mean_sq</th>\n",
       "      <th>F</th>\n",
       "      <th>PR(&gt;F)</th>\n",
       "    </tr>\n",
       "  </thead>\n",
       "  <tbody>\n",
       "    <tr>\n",
       "      <th>C(Nationality)</th>\n",
       "      <td>163.0</td>\n",
       "      <td>4.292914e+07</td>\n",
       "      <td>263368.987135</td>\n",
       "      <td>3.202987</td>\n",
       "      <td>1.976253e-38</td>\n",
       "    </tr>\n",
       "    <tr>\n",
       "      <th>Residual</th>\n",
       "      <td>18043.0</td>\n",
       "      <td>1.483605e+09</td>\n",
       "      <td>82226.058289</td>\n",
       "      <td>NaN</td>\n",
       "      <td>NaN</td>\n",
       "    </tr>\n",
       "  </tbody>\n",
       "</table>\n",
       "</div>"
      ],
      "text/plain": [
       "                     df        sum_sq        mean_sq         F        PR(>F)\n",
       "C(Nationality)    163.0  4.292914e+07  263368.987135  3.202987  1.976253e-38\n",
       "Residual        18043.0  1.483605e+09   82226.058289       NaN           NaN"
      ]
     },
     "execution_count": 126,
     "metadata": {},
     "output_type": "execute_result"
    }
   ],
   "source": [
    "# Your code here:\n",
    "formula = 'Value  ~ C(Nationality)'\n",
    "model = ols(formula=formula, data=fifa).fit()\n",
    "\n",
    "anova_table = sm.stats.anova_lm(model, typ=1) #Anova table para ver si hay diferencias significativas de las varianzas\n",
    "anova_table"
   ]
  },
  {
   "cell_type": "markdown",
   "metadata": {},
   "source": [
    "What is your conclusion from this ANOVA?\n",
    "Se concluye que exite una diferencia significativa de la varianza de las nacionalidades con respecto al Value"
   ]
  },
  {
   "cell_type": "markdown",
   "metadata": {},
   "source": [
    "# Challenge 2 - Linear Regression\n",
    "\n",
    "Our goal with using linear regression is to create a mathematical model that will enable us to predict the outcome of one variable using one or more additional independent variables.\n",
    "\n",
    "We'll start by ensuring there are no missing values. Examine all variables for all missing values. If there are missing values in a row, remove the entire row."
   ]
  },
  {
   "cell_type": "code",
   "execution_count": 127,
   "metadata": {},
   "outputs": [
    {
     "name": "stdout",
     "output_type": "stream",
     "text": [
      "<class 'pandas.core.frame.DataFrame'>\n",
      "RangeIndex: 18207 entries, 0 to 18206\n",
      "Data columns (total 20 columns):\n",
      " #   Column         Non-Null Count  Dtype  \n",
      "---  ------         --------------  -----  \n",
      " 0   Name           18207 non-null  object \n",
      " 1   Age            18207 non-null  int64  \n",
      " 2   Nationality    18207 non-null  object \n",
      " 3   Overall        18207 non-null  int64  \n",
      " 4   Potential      18207 non-null  int64  \n",
      " 5   Club           17966 non-null  object \n",
      " 6   Value          18207 non-null  float64\n",
      " 7   PreferredFoot  18159 non-null  object \n",
      " 8   Position       18147 non-null  object \n",
      " 9   Weak Foot      18159 non-null  float64\n",
      " 10  Acceleration   18159 non-null  float64\n",
      " 11  SprintSpeed    18159 non-null  float64\n",
      " 12  Stamina        18159 non-null  float64\n",
      " 13  Strength       18159 non-null  float64\n",
      " 14  LongShots      18159 non-null  float64\n",
      " 15  Aggression     18159 non-null  float64\n",
      " 16  Interceptions  18159 non-null  float64\n",
      " 17  Positioning    18159 non-null  float64\n",
      " 18  Vision         18159 non-null  float64\n",
      " 19  Penalties      18159 non-null  float64\n",
      "dtypes: float64(12), int64(3), object(5)\n",
      "memory usage: 2.8+ MB\n"
     ]
    }
   ],
   "source": [
    "# Your code here:\n",
    "fifa.info() #observamos las variables nuevamente para asi ver los nulos que poseen"
   ]
  },
  {
   "cell_type": "code",
   "execution_count": 128,
   "metadata": {},
   "outputs": [
    {
     "data": {
      "text/plain": [
       "Name               0\n",
       "Age                0\n",
       "Nationality        0\n",
       "Overall            0\n",
       "Potential          0\n",
       "Club             241\n",
       "Value              0\n",
       "PreferredFoot     48\n",
       "Position          60\n",
       "Weak Foot         48\n",
       "Acceleration      48\n",
       "SprintSpeed       48\n",
       "Stamina           48\n",
       "Strength          48\n",
       "LongShots         48\n",
       "Aggression        48\n",
       "Interceptions     48\n",
       "Positioning       48\n",
       "Vision            48\n",
       "Penalties         48\n",
       "dtype: int64"
      ]
     },
     "execution_count": 128,
     "metadata": {},
     "output_type": "execute_result"
    }
   ],
   "source": [
    "nulos = fifa.isnull().sum() #Variables con nulos\n",
    "nulos"
   ]
  },
  {
   "cell_type": "code",
   "execution_count": 129,
   "metadata": {},
   "outputs": [
    {
     "data": {
      "text/plain": [
       "PreferredFoot     48\n",
       "Weak Foot         48\n",
       "Acceleration      48\n",
       "SprintSpeed       48\n",
       "Stamina           48\n",
       "Strength          48\n",
       "LongShots         48\n",
       "Aggression        48\n",
       "Interceptions     48\n",
       "Positioning       48\n",
       "Vision            48\n",
       "Penalties         48\n",
       "Position          60\n",
       "Club             241\n",
       "dtype: int64"
      ]
     },
     "execution_count": 129,
     "metadata": {},
     "output_type": "execute_result"
    }
   ],
   "source": [
    "columnas_nulos = nulos[nulos.values > 0] #Filtramos solo aquellas variables con nulos\n",
    "columnas_nulos.sort_values(ascending=True)"
   ]
  },
  {
   "cell_type": "code",
   "execution_count": 130,
   "metadata": {},
   "outputs": [
    {
     "data": {
      "text/plain": [
       "(14,)"
      ]
     },
     "execution_count": 130,
     "metadata": {},
     "output_type": "execute_result"
    }
   ],
   "source": [
    "columnas_nulos.shape #Solo 14 columnas poseen nulos"
   ]
  },
  {
   "cell_type": "code",
   "execution_count": 131,
   "metadata": {},
   "outputs": [
    {
     "data": {
      "image/png": "[encoded data removed]",
      "text/plain": [
       "<Figure size 432x288 with 1 Axes>"
      ]
     },
     "metadata": {
      "needs_background": "light"
     },
     "output_type": "display_data"
    }
   ],
   "source": [
    "fifa.isnull().sum().to_frame(name='valores_faltantes')\\ #Visualizamos los nulos\n",
    ".query('valores_faltantes > 0').sort_values(by='valores_faltantes', ascending=False).plot.barh();"
   ]
  },
  {
   "cell_type": "code",
   "execution_count": 132,
   "metadata": {},
   "outputs": [
    {
     "data": {
      "text/plain": [
       "PreferredFoot    0.263635\n",
       "Weak Foot        0.263635\n",
       "Acceleration     0.263635\n",
       "SprintSpeed      0.263635\n",
       "Stamina          0.263635\n",
       "Strength         0.263635\n",
       "LongShots        0.263635\n",
       "Aggression       0.263635\n",
       "Interceptions    0.263635\n",
       "Positioning      0.263635\n",
       "Vision           0.263635\n",
       "Penalties        0.263635\n",
       "Position         0.329544\n",
       "Club             1.323667\n",
       "dtype: float64"
      ]
     },
     "execution_count": 132,
     "metadata": {},
     "output_type": "execute_result"
    }
   ],
   "source": [
    "(columnas_nulos.sort_values() / fifa.shape[0]) * 100 #porcentaje de los nulos"
   ]
  },
  {
   "cell_type": "code",
   "execution_count": 133,
   "metadata": {},
   "outputs": [
    {
     "name": "stdout",
     "output_type": "stream",
     "text": [
      "<class 'pandas.core.frame.DataFrame'>\n",
      "Int64Index: 17918 entries, 0 to 18206\n",
      "Data columns (total 20 columns):\n",
      " #   Column         Non-Null Count  Dtype  \n",
      "---  ------         --------------  -----  \n",
      " 0   Name           17918 non-null  object \n",
      " 1   Age            17918 non-null  int64  \n",
      " 2   Nationality    17918 non-null  object \n",
      " 3   Overall        17918 non-null  int64  \n",
      " 4   Potential      17918 non-null  int64  \n",
      " 5   Club           17918 non-null  object \n",
      " 6   Value          17918 non-null  float64\n",
      " 7   PreferredFoot  17918 non-null  object \n",
      " 8   Position       17918 non-null  object \n",
      " 9   Weak Foot      17918 non-null  float64\n",
      " 10  Acceleration   17918 non-null  float64\n",
      " 11  SprintSpeed    17918 non-null  float64\n",
      " 12  Stamina        17918 non-null  float64\n",
      " 13  Strength       17918 non-null  float64\n",
      " 14  LongShots      17918 non-null  float64\n",
      " 15  Aggression     17918 non-null  float64\n",
      " 16  Interceptions  17918 non-null  float64\n",
      " 17  Positioning    17918 non-null  float64\n",
      " 18  Vision         17918 non-null  float64\n",
      " 19  Penalties      17918 non-null  float64\n",
      "dtypes: float64(12), int64(3), object(5)\n",
      "memory usage: 2.9+ MB\n"
     ]
    }
   ],
   "source": [
    "#df_clean = fifa.drop(columnas_nulos[columnas_nulos < 242].index, axis=0)\n",
    "#columnas_nulos.dropna()\n",
    "df_clean = fifa.dropna() #eliminamos todos los registros nulos\n",
    "df_clean.info()"
   ]
  },
  {
   "cell_type": "code",
   "execution_count": 40,
   "metadata": {},
   "outputs": [
    {
     "data": {
      "text/plain": [
       "0"
      ]
     },
     "execution_count": 40,
     "metadata": {},
     "output_type": "execute_result"
    }
   ],
   "source": [
    "df_clean.isnull().sum().max() "
   ]
  },
  {
   "cell_type": "code",
   "execution_count": 134,
   "metadata": {},
   "outputs": [
    {
     "name": "stdout",
     "output_type": "stream",
     "text": [
      "<class 'pandas.core.frame.DataFrame'>\n",
      "Int64Index: 17918 entries, 0 to 18206\n",
      "Data columns (total 20 columns):\n",
      " #   Column         Non-Null Count  Dtype  \n",
      "---  ------         --------------  -----  \n",
      " 0   Name           17918 non-null  object \n",
      " 1   Age            17918 non-null  int64  \n",
      " 2   Nationality    17918 non-null  object \n",
      " 3   Overall        17918 non-null  int64  \n",
      " 4   Potential      17918 non-null  int64  \n",
      " 5   Club           17918 non-null  object \n",
      " 6   Value          17918 non-null  float64\n",
      " 7   PreferredFoot  17918 non-null  object \n",
      " 8   Position       17918 non-null  object \n",
      " 9   Weak Foot      17918 non-null  float64\n",
      " 10  Acceleration   17918 non-null  float64\n",
      " 11  SprintSpeed    17918 non-null  float64\n",
      " 12  Stamina        17918 non-null  float64\n",
      " 13  Strength       17918 non-null  float64\n",
      " 14  LongShots      17918 non-null  float64\n",
      " 15  Aggression     17918 non-null  float64\n",
      " 16  Interceptions  17918 non-null  float64\n",
      " 17  Positioning    17918 non-null  float64\n",
      " 18  Vision         17918 non-null  float64\n",
      " 19  Penalties      17918 non-null  float64\n",
      "dtypes: float64(12), int64(3), object(5)\n",
      "memory usage: 2.9+ MB\n"
     ]
    }
   ],
   "source": [
    "df_clean.info() #Dataset limpio"
   ]
  },
  {
   "cell_type": "code",
   "execution_count": 136,
   "metadata": {},
   "outputs": [
    {
     "data": {
      "text/plain": [
       "(17918, 20)"
      ]
     },
     "execution_count": 136,
     "metadata": {},
     "output_type": "execute_result"
    }
   ],
   "source": [
    "df_clean.shape #Cantidad de filas y columnas"
   ]
  },
  {
   "cell_type": "markdown",
   "metadata": {},
   "source": [
    "Using the FIFA dataset, in the cell below, create a linear model predicting value using stamina and sprint speed. create the model using `statsmodels`. Print the model summary.\n",
    "\n",
    "Hint: remember to add an intercept to the model using the `add_constant` function."
   ]
  },
  {
   "cell_type": "code",
   "execution_count": 139,
   "metadata": {},
   "outputs": [
    {
     "data": {
      "text/html": [
       "<div>\n",
       "<style scoped>\n",
       "    .dataframe tbody tr th:only-of-type {\n",
       "        vertical-align: middle;\n",
       "    }\n",
       "\n",
       "    .dataframe tbody tr th {\n",
       "        vertical-align: top;\n",
       "    }\n",
       "\n",
       "    .dataframe thead th {\n",
       "        text-align: right;\n",
       "    }\n",
       "</style>\n",
       "<table border=\"1\" class=\"dataframe\">\n",
       "  <thead>\n",
       "    <tr style=\"text-align: right;\">\n",
       "      <th></th>\n",
       "      <th>Value</th>\n",
       "      <th>SprintSpeed</th>\n",
       "      <th>Stamina</th>\n",
       "      <th>Potential</th>\n",
       "    </tr>\n",
       "  </thead>\n",
       "  <tbody>\n",
       "    <tr>\n",
       "      <th>0</th>\n",
       "      <td>110.5</td>\n",
       "      <td>86.0</td>\n",
       "      <td>72.0</td>\n",
       "      <td>94</td>\n",
       "    </tr>\n",
       "    <tr>\n",
       "      <th>1</th>\n",
       "      <td>77.0</td>\n",
       "      <td>91.0</td>\n",
       "      <td>88.0</td>\n",
       "      <td>94</td>\n",
       "    </tr>\n",
       "    <tr>\n",
       "      <th>2</th>\n",
       "      <td>118.5</td>\n",
       "      <td>90.0</td>\n",
       "      <td>81.0</td>\n",
       "      <td>93</td>\n",
       "    </tr>\n",
       "    <tr>\n",
       "      <th>3</th>\n",
       "      <td>72.0</td>\n",
       "      <td>58.0</td>\n",
       "      <td>43.0</td>\n",
       "      <td>93</td>\n",
       "    </tr>\n",
       "    <tr>\n",
       "      <th>4</th>\n",
       "      <td>102.0</td>\n",
       "      <td>76.0</td>\n",
       "      <td>90.0</td>\n",
       "      <td>92</td>\n",
       "    </tr>\n",
       "    <tr>\n",
       "      <th>...</th>\n",
       "      <td>...</td>\n",
       "      <td>...</td>\n",
       "      <td>...</td>\n",
       "      <td>...</td>\n",
       "    </tr>\n",
       "    <tr>\n",
       "      <th>18202</th>\n",
       "      <td>60.0</td>\n",
       "      <td>57.0</td>\n",
       "      <td>40.0</td>\n",
       "      <td>65</td>\n",
       "    </tr>\n",
       "    <tr>\n",
       "      <th>18203</th>\n",
       "      <td>60.0</td>\n",
       "      <td>39.0</td>\n",
       "      <td>43.0</td>\n",
       "      <td>63</td>\n",
       "    </tr>\n",
       "    <tr>\n",
       "      <th>18204</th>\n",
       "      <td>60.0</td>\n",
       "      <td>69.0</td>\n",
       "      <td>55.0</td>\n",
       "      <td>67</td>\n",
       "    </tr>\n",
       "    <tr>\n",
       "      <th>18205</th>\n",
       "      <td>60.0</td>\n",
       "      <td>60.0</td>\n",
       "      <td>40.0</td>\n",
       "      <td>66</td>\n",
       "    </tr>\n",
       "    <tr>\n",
       "      <th>18206</th>\n",
       "      <td>60.0</td>\n",
       "      <td>55.0</td>\n",
       "      <td>47.0</td>\n",
       "      <td>66</td>\n",
       "    </tr>\n",
       "  </tbody>\n",
       "</table>\n",
       "<p>17918 rows × 4 columns</p>\n",
       "</div>"
      ],
      "text/plain": [
       "       Value  SprintSpeed  Stamina  Potential\n",
       "0      110.5         86.0     72.0         94\n",
       "1       77.0         91.0     88.0         94\n",
       "2      118.5         90.0     81.0         93\n",
       "3       72.0         58.0     43.0         93\n",
       "4      102.0         76.0     90.0         92\n",
       "...      ...          ...      ...        ...\n",
       "18202   60.0         57.0     40.0         65\n",
       "18203   60.0         39.0     43.0         63\n",
       "18204   60.0         69.0     55.0         67\n",
       "18205   60.0         60.0     40.0         66\n",
       "18206   60.0         55.0     47.0         66\n",
       "\n",
       "[17918 rows x 4 columns]"
      ]
     },
     "execution_count": 139,
     "metadata": {},
     "output_type": "execute_result"
    }
   ],
   "source": [
    "col_model = df_clean[['Value', 'SprintSpeed', 'Stamina', 'Potential']] \n",
    "col_model #seleccionamos las columnas que vamos a utilizar para modelar"
   ]
  },
  {
   "cell_type": "code",
   "execution_count": 140,
   "metadata": {},
   "outputs": [
    {
     "data": {
      "text/html": [
       "<div>\n",
       "<style scoped>\n",
       "    .dataframe tbody tr th:only-of-type {\n",
       "        vertical-align: middle;\n",
       "    }\n",
       "\n",
       "    .dataframe tbody tr th {\n",
       "        vertical-align: top;\n",
       "    }\n",
       "\n",
       "    .dataframe thead th {\n",
       "        text-align: right;\n",
       "    }\n",
       "</style>\n",
       "<table border=\"1\" class=\"dataframe\">\n",
       "  <thead>\n",
       "    <tr style=\"text-align: right;\">\n",
       "      <th></th>\n",
       "      <th>Value</th>\n",
       "      <th>SprintSpeed</th>\n",
       "      <th>Stamina</th>\n",
       "      <th>Potential</th>\n",
       "    </tr>\n",
       "  </thead>\n",
       "  <tbody>\n",
       "    <tr>\n",
       "      <th>Value</th>\n",
       "      <td>1.000000</td>\n",
       "      <td>-0.001447</td>\n",
       "      <td>-0.018361</td>\n",
       "      <td>-0.235739</td>\n",
       "    </tr>\n",
       "    <tr>\n",
       "      <th>SprintSpeed</th>\n",
       "      <td>-0.001447</td>\n",
       "      <td>1.000000</td>\n",
       "      <td>0.619422</td>\n",
       "      <td>0.237933</td>\n",
       "    </tr>\n",
       "    <tr>\n",
       "      <th>Stamina</th>\n",
       "      <td>-0.018361</td>\n",
       "      <td>0.619422</td>\n",
       "      <td>1.000000</td>\n",
       "      <td>0.202373</td>\n",
       "    </tr>\n",
       "    <tr>\n",
       "      <th>Potential</th>\n",
       "      <td>-0.235739</td>\n",
       "      <td>0.237933</td>\n",
       "      <td>0.202373</td>\n",
       "      <td>1.000000</td>\n",
       "    </tr>\n",
       "  </tbody>\n",
       "</table>\n",
       "</div>"
      ],
      "text/plain": [
       "                Value  SprintSpeed   Stamina  Potential\n",
       "Value        1.000000    -0.001447 -0.018361  -0.235739\n",
       "SprintSpeed -0.001447     1.000000  0.619422   0.237933\n",
       "Stamina     -0.018361     0.619422  1.000000   0.202373\n",
       "Potential   -0.235739     0.237933  0.202373   1.000000"
      ]
     },
     "execution_count": 140,
     "metadata": {},
     "output_type": "execute_result"
    }
   ],
   "source": [
    "corr = col_model.corr() #Grado de correlacion entre las variables\n",
    "corr"
   ]
  },
  {
   "cell_type": "code",
   "execution_count": 141,
   "metadata": {},
   "outputs": [
    {
     "data": {
      "image/png": "[encoded data removed]",
      "text/plain": [
       "<Figure size 576x288 with 2 Axes>"
      ]
     },
     "metadata": {},
     "output_type": "display_data"
    }
   ],
   "source": [
    "sns.set() #heatmap de las correlaciones con seaborn\n",
    "\n",
    "fig, ax = plt.subplots(figsize=(8, 4))\n",
    "sns.heatmap(round(corr, 2), annot=True, ax=ax, cmap='coolwarm',\n",
    "            fmt='.2f', linewidths=0.5)\n",
    "fig.subplots_adjust(top=0.93)\n",
    "fig.suptitle('Mapa de Correlaciones');"
   ]
  },
  {
   "cell_type": "code",
   "execution_count": 142,
   "metadata": {},
   "outputs": [
    {
     "data": {
      "text/html": [
       "<div>\n",
       "<style scoped>\n",
       "    .dataframe tbody tr th:only-of-type {\n",
       "        vertical-align: middle;\n",
       "    }\n",
       "\n",
       "    .dataframe tbody tr th {\n",
       "        vertical-align: top;\n",
       "    }\n",
       "\n",
       "    .dataframe thead th {\n",
       "        text-align: right;\n",
       "    }\n",
       "</style>\n",
       "<table border=\"1\" class=\"dataframe\">\n",
       "  <thead>\n",
       "    <tr style=\"text-align: right;\">\n",
       "      <th></th>\n",
       "      <th>Value</th>\n",
       "      <th>SprintSpeed</th>\n",
       "      <th>Stamina</th>\n",
       "      <th>Potential</th>\n",
       "    </tr>\n",
       "  </thead>\n",
       "  <tbody>\n",
       "    <tr>\n",
       "      <th>0</th>\n",
       "      <td>110.5</td>\n",
       "      <td>86.0</td>\n",
       "      <td>72.0</td>\n",
       "      <td>94</td>\n",
       "    </tr>\n",
       "    <tr>\n",
       "      <th>1</th>\n",
       "      <td>77.0</td>\n",
       "      <td>91.0</td>\n",
       "      <td>88.0</td>\n",
       "      <td>94</td>\n",
       "    </tr>\n",
       "    <tr>\n",
       "      <th>2</th>\n",
       "      <td>118.5</td>\n",
       "      <td>90.0</td>\n",
       "      <td>81.0</td>\n",
       "      <td>93</td>\n",
       "    </tr>\n",
       "    <tr>\n",
       "      <th>3</th>\n",
       "      <td>72.0</td>\n",
       "      <td>58.0</td>\n",
       "      <td>43.0</td>\n",
       "      <td>93</td>\n",
       "    </tr>\n",
       "    <tr>\n",
       "      <th>4</th>\n",
       "      <td>102.0</td>\n",
       "      <td>76.0</td>\n",
       "      <td>90.0</td>\n",
       "      <td>92</td>\n",
       "    </tr>\n",
       "    <tr>\n",
       "      <th>...</th>\n",
       "      <td>...</td>\n",
       "      <td>...</td>\n",
       "      <td>...</td>\n",
       "      <td>...</td>\n",
       "    </tr>\n",
       "    <tr>\n",
       "      <th>2014</th>\n",
       "      <td>7.0</td>\n",
       "      <td>69.0</td>\n",
       "      <td>65.0</td>\n",
       "      <td>78</td>\n",
       "    </tr>\n",
       "    <tr>\n",
       "      <th>2015</th>\n",
       "      <td>6.5</td>\n",
       "      <td>60.0</td>\n",
       "      <td>77.0</td>\n",
       "      <td>77</td>\n",
       "    </tr>\n",
       "    <tr>\n",
       "      <th>2016</th>\n",
       "      <td>6.0</td>\n",
       "      <td>52.0</td>\n",
       "      <td>61.0</td>\n",
       "      <td>76</td>\n",
       "    </tr>\n",
       "    <tr>\n",
       "      <th>2017</th>\n",
       "      <td>6.5</td>\n",
       "      <td>84.0</td>\n",
       "      <td>70.0</td>\n",
       "      <td>75</td>\n",
       "    </tr>\n",
       "    <tr>\n",
       "      <th>2018</th>\n",
       "      <td>8.0</td>\n",
       "      <td>75.0</td>\n",
       "      <td>72.0</td>\n",
       "      <td>77</td>\n",
       "    </tr>\n",
       "  </tbody>\n",
       "</table>\n",
       "<p>2000 rows × 4 columns</p>\n",
       "</div>"
      ],
      "text/plain": [
       "      Value  SprintSpeed  Stamina  Potential\n",
       "0     110.5         86.0     72.0         94\n",
       "1      77.0         91.0     88.0         94\n",
       "2     118.5         90.0     81.0         93\n",
       "3      72.0         58.0     43.0         93\n",
       "4     102.0         76.0     90.0         92\n",
       "...     ...          ...      ...        ...\n",
       "2014    7.0         69.0     65.0         78\n",
       "2015    6.5         60.0     77.0         77\n",
       "2016    6.0         52.0     61.0         76\n",
       "2017    6.5         84.0     70.0         75\n",
       "2018    8.0         75.0     72.0         77\n",
       "\n",
       "[2000 rows x 4 columns]"
      ]
     },
     "execution_count": 142,
     "metadata": {},
     "output_type": "execute_result"
    }
   ],
   "source": [
    "col_model_2000 = col_model.head(2000) #obtenemos solo 2,000 observaciones para graficar las dispersiones\n",
    "col_model_2000"
   ]
  },
  {
   "cell_type": "code",
   "execution_count": 143,
   "metadata": {},
   "outputs": [
    {
     "data": {
      "image/png": "[encoded data removed]",
      "text/plain": [
       "<Figure size 720x720 with 20 Axes>"
      ]
     },
     "metadata": {},
     "output_type": "display_data"
    }
   ],
   "source": [
    "sns.pairplot(col_model_2000);  #Grafica de todas las variables con dispersion\n",
    "#No existe una correlacion de las variables:(Stamina, SprintSpeed) con relacion al Value, sin embargo se aprecia un nivel\n",
    "#de relacion moderada y positiva entre la stamina y el sprint speed con un coeficiente de correlacion de 0.62 situacion \n",
    "#que puede afectar al modelo por la colinealidad\n"
   ]
  },
  {
   "cell_type": "code",
   "execution_count": 144,
   "metadata": {},
   "outputs": [
    {
     "data": {
      "image/png": "[encoded data removed]",
      "text/plain": [
       "<Figure size 720x360 with 2 Axes>"
      ]
     },
     "metadata": {},
     "output_type": "display_data"
    },
    {
     "data": {
      "image/png": "[encoded data removed]",
      "text/plain": [
       "<Figure size 720x360 with 2 Axes>"
      ]
     },
     "metadata": {},
     "output_type": "display_data"
    },
    {
     "data": {
      "image/png": "[encoded data removed]",
      "text/plain": [
       "<Figure size 720x360 with 2 Axes>"
      ]
     },
     "metadata": {},
     "output_type": "display_data"
    },
    {
     "data": {
      "image/png": "[encoded data removed]",
      "text/plain": [
       "<Figure size 720x360 with 2 Axes>"
      ]
     },
     "metadata": {},
     "output_type": "display_data"
    }
   ],
   "source": [
    "for columna in col_model:\n",
    "    fig, ax = plt.subplots(1, 2, figsize=(10, 5))\n",
    "    sns.distplot(col_model[columna], kde=True, ax=ax[0])\n",
    "    sns.boxplot(col_model[columna], orient='h', ax=ax[1]);"
   ]
  },
  {
   "cell_type": "code",
   "execution_count": 145,
   "metadata": {},
   "outputs": [
    {
     "data": {
      "text/plain": [
       "<Figure size 432x288 with 0 Axes>"
      ]
     },
     "metadata": {},
     "output_type": "display_data"
    },
    {
     "data": {
      "image/png": "[encoded data removed]",
      "text/plain": [
       "<Figure size 360x360 with 1 Axes>"
      ]
     },
     "metadata": {},
     "output_type": "display_data"
    }
   ],
   "source": [
    "plt.figure()\n",
    "sns.displot(col_model['Value'], kde=True)\n",
    "plt.xticks(rotation=90);"
   ]
  },
  {
   "cell_type": "code",
   "execution_count": 146,
   "metadata": {},
   "outputs": [
    {
     "data": {
      "text/plain": [
       "count    17918.000000\n",
       "mean       268.352232\n",
       "std        290.149881\n",
       "min          0.000000\n",
       "25%          4.900000\n",
       "50%        160.000000\n",
       "75%        475.000000\n",
       "max        975.000000\n",
       "Name: Value, dtype: float64"
      ]
     },
     "execution_count": 146,
     "metadata": {},
     "output_type": "execute_result"
    }
   ],
   "source": [
    "col_model['Value'].describe()#se aprecia un valor extremo muy grande hacia a la izquierda en la distribucion de la columna Value\n",
    "                            #obstaculizando una mejor visualizacion de la misma, sabiendo que la media es de 268"
   ]
  },
  {
   "cell_type": "code",
   "execution_count": 147,
   "metadata": {},
   "outputs": [
    {
     "name": "stdout",
     "output_type": "stream",
     "text": [
      "Cesgo: 0.812008401153985\n",
      "Kurtosis: -0.5944406021058692\n"
     ]
    }
   ],
   "source": [
    "print(f\"Cesgo: {col_model['Value'].skew()}\")\n",
    "print(f\"Kurtosis: {col_model['Value'].kurt()}\")"
   ]
  },
  {
   "cell_type": "code",
   "execution_count": 148,
   "metadata": {},
   "outputs": [
    {
     "data": {
      "image/png": "[encoded data removed]",
      "text/plain": [
       "<Figure size 432x288 with 1 Axes>"
      ]
     },
     "metadata": {},
     "output_type": "display_data"
    }
   ],
   "source": [
    "plt.figure()\n",
    "ax = sns.distplot(col_model['Value'], fit=norm)\n",
    "plt.xticks(rotation=90); #se observa que la grafica de distribucion es plana debido a la curtosis es negativa y que hay cesgo\n",
    "                         #hacia la derecha de nuestros datos debido a un cesgo positivo"
   ]
  },
  {
   "cell_type": "code",
   "execution_count": 150,
   "metadata": {},
   "outputs": [
    {
     "data": {
      "text/html": [
       "<div>\n",
       "<style scoped>\n",
       "    .dataframe tbody tr th:only-of-type {\n",
       "        vertical-align: middle;\n",
       "    }\n",
       "\n",
       "    .dataframe tbody tr th {\n",
       "        vertical-align: top;\n",
       "    }\n",
       "\n",
       "    .dataframe thead th {\n",
       "        text-align: right;\n",
       "    }\n",
       "</style>\n",
       "<table border=\"1\" class=\"dataframe\">\n",
       "  <thead>\n",
       "    <tr style=\"text-align: right;\">\n",
       "      <th></th>\n",
       "      <th>Value</th>\n",
       "      <th>Stamina</th>\n",
       "      <th>SprintSpeed</th>\n",
       "    </tr>\n",
       "  </thead>\n",
       "  <tbody>\n",
       "    <tr>\n",
       "      <th>0</th>\n",
       "      <td>110.5</td>\n",
       "      <td>72.0</td>\n",
       "      <td>86.0</td>\n",
       "    </tr>\n",
       "    <tr>\n",
       "      <th>1</th>\n",
       "      <td>77.0</td>\n",
       "      <td>88.0</td>\n",
       "      <td>91.0</td>\n",
       "    </tr>\n",
       "    <tr>\n",
       "      <th>2</th>\n",
       "      <td>118.5</td>\n",
       "      <td>81.0</td>\n",
       "      <td>90.0</td>\n",
       "    </tr>\n",
       "    <tr>\n",
       "      <th>3</th>\n",
       "      <td>72.0</td>\n",
       "      <td>43.0</td>\n",
       "      <td>58.0</td>\n",
       "    </tr>\n",
       "    <tr>\n",
       "      <th>4</th>\n",
       "      <td>102.0</td>\n",
       "      <td>90.0</td>\n",
       "      <td>76.0</td>\n",
       "    </tr>\n",
       "    <tr>\n",
       "      <th>...</th>\n",
       "      <td>...</td>\n",
       "      <td>...</td>\n",
       "      <td>...</td>\n",
       "    </tr>\n",
       "    <tr>\n",
       "      <th>18202</th>\n",
       "      <td>60.0</td>\n",
       "      <td>40.0</td>\n",
       "      <td>57.0</td>\n",
       "    </tr>\n",
       "    <tr>\n",
       "      <th>18203</th>\n",
       "      <td>60.0</td>\n",
       "      <td>43.0</td>\n",
       "      <td>39.0</td>\n",
       "    </tr>\n",
       "    <tr>\n",
       "      <th>18204</th>\n",
       "      <td>60.0</td>\n",
       "      <td>55.0</td>\n",
       "      <td>69.0</td>\n",
       "    </tr>\n",
       "    <tr>\n",
       "      <th>18205</th>\n",
       "      <td>60.0</td>\n",
       "      <td>40.0</td>\n",
       "      <td>60.0</td>\n",
       "    </tr>\n",
       "    <tr>\n",
       "      <th>18206</th>\n",
       "      <td>60.0</td>\n",
       "      <td>47.0</td>\n",
       "      <td>55.0</td>\n",
       "    </tr>\n",
       "  </tbody>\n",
       "</table>\n",
       "<p>17918 rows × 3 columns</p>\n",
       "</div>"
      ],
      "text/plain": [
       "       Value  Stamina  SprintSpeed\n",
       "0      110.5     72.0         86.0\n",
       "1       77.0     88.0         91.0\n",
       "2      118.5     81.0         90.0\n",
       "3       72.0     43.0         58.0\n",
       "4      102.0     90.0         76.0\n",
       "...      ...      ...          ...\n",
       "18202   60.0     40.0         57.0\n",
       "18203   60.0     43.0         39.0\n",
       "18204   60.0     55.0         69.0\n",
       "18205   60.0     40.0         60.0\n",
       "18206   60.0     47.0         55.0\n",
       "\n",
       "[17918 rows x 3 columns]"
      ]
     },
     "execution_count": 150,
     "metadata": {},
     "output_type": "execute_result"
    }
   ],
   "source": [
    "#we are going to train and test the model\n",
    "col_model_3 = col_model[['Value', 'Stamina', 'SprintSpeed']] #selecting just the columns we need it for modelling\n",
    "col_model_3"
   ]
  },
  {
   "cell_type": "code",
   "execution_count": 151,
   "metadata": {},
   "outputs": [],
   "source": [
    "X = col_model_3[['Stamina', 'SprintSpeed']]\n",
    "Y = col_model_3[['Value']]"
   ]
  },
  {
   "cell_type": "code",
   "execution_count": 156,
   "metadata": {},
   "outputs": [],
   "source": [
    "X_train, X_test, y_train, y_test = train_test_split(X, y, test_size=0.2,\n",
    "                                                    random_state=42)"
   ]
  },
  {
   "cell_type": "code",
   "execution_count": 157,
   "metadata": {},
   "outputs": [
    {
     "name": "stdout",
     "output_type": "stream",
     "text": [
      "(14334, 2)\n",
      "(3584, 2)\n",
      "(14334, 1)\n",
      "(3584, 1)\n"
     ]
    }
   ],
   "source": [
    "print(X_train.shape)\n",
    "print(X_test.shape)\n",
    "print(y_train.shape)\n",
    "print(y_test.shape)"
   ]
  },
  {
   "cell_type": "code",
   "execution_count": 158,
   "metadata": {},
   "outputs": [
    {
     "data": {
      "text/plain": [
       "LinearRegression()"
      ]
     },
     "execution_count": 158,
     "metadata": {},
     "output_type": "execute_result"
    }
   ],
   "source": [
    "model = LinearRegression()\n",
    "model.fit(X_train, y_train)"
   ]
  },
  {
   "cell_type": "code",
   "execution_count": 174,
   "metadata": {},
   "outputs": [
    {
     "data": {
      "text/plain": [
       "array([275.86108317])"
      ]
     },
     "execution_count": 174,
     "metadata": {},
     "output_type": "execute_result"
    }
   ],
   "source": [
    "intercept = model.intercept_\n",
    "intercept"
   ]
  },
  {
   "cell_type": "code",
   "execution_count": 175,
   "metadata": {},
   "outputs": [
    {
     "data": {
      "text/plain": [
       "array([[-0.45802004,  0.34025336]])"
      ]
     },
     "execution_count": 175,
     "metadata": {},
     "output_type": "execute_result"
    }
   ],
   "source": [
    "coef = model.coef_\n",
    "coef"
   ]
  },
  {
   "cell_type": "code",
   "execution_count": 177,
   "metadata": {},
   "outputs": [
    {
     "data": {
      "text/plain": [
       "array([86., 91., 90., ..., 69., 60., 55.])"
      ]
     },
     "execution_count": 177,
     "metadata": {},
     "output_type": "execute_result"
    }
   ],
   "source": [
    "X.iloc[:, 1].values"
   ]
  },
  {
   "cell_type": "code",
   "execution_count": 180,
   "metadata": {},
   "outputs": [
    {
     "data": {
      "text/plain": [
       "array([-0.45802004,  0.34025336])"
      ]
     },
     "execution_count": 180,
     "metadata": {},
     "output_type": "execute_result"
    }
   ],
   "source": [
    "betas = model.coef_.flatten()\n",
    "betas[:]"
   ]
  },
  {
   "cell_type": "code",
   "execution_count": 181,
   "metadata": {},
   "outputs": [
    {
     "data": {
      "text/html": [
       "<div>\n",
       "<style scoped>\n",
       "    .dataframe tbody tr th:only-of-type {\n",
       "        vertical-align: middle;\n",
       "    }\n",
       "\n",
       "    .dataframe tbody tr th {\n",
       "        vertical-align: top;\n",
       "    }\n",
       "\n",
       "    .dataframe thead th {\n",
       "        text-align: right;\n",
       "    }\n",
       "</style>\n",
       "<table border=\"1\" class=\"dataframe\">\n",
       "  <thead>\n",
       "    <tr style=\"text-align: right;\">\n",
       "      <th></th>\n",
       "      <th>Betas</th>\n",
       "    </tr>\n",
       "  </thead>\n",
       "  <tbody>\n",
       "    <tr>\n",
       "      <th>0</th>\n",
       "      <td>-0.458020</td>\n",
       "    </tr>\n",
       "    <tr>\n",
       "      <th>1</th>\n",
       "      <td>0.340253</td>\n",
       "    </tr>\n",
       "  </tbody>\n",
       "</table>\n",
       "</div>"
      ],
      "text/plain": [
       "      Betas\n",
       "0 -0.458020\n",
       "1  0.340253"
      ]
     },
     "execution_count": 181,
     "metadata": {},
     "output_type": "execute_result"
    }
   ],
   "source": [
    "df_betas = pd.DataFrame(betas, columns=['Betas'])\n",
    "df_betas"
   ]
  },
  {
   "cell_type": "code",
   "execution_count": 182,
   "metadata": {},
   "outputs": [],
   "source": [
    "df_betas['y'] = df_betas.sum(axis=0) + intercept"
   ]
  },
  {
   "cell_type": "code",
   "execution_count": 184,
   "metadata": {},
   "outputs": [
    {
     "data": {
      "text/html": [
       "<div>\n",
       "<style scoped>\n",
       "    .dataframe tbody tr th:only-of-type {\n",
       "        vertical-align: middle;\n",
       "    }\n",
       "\n",
       "    .dataframe tbody tr th {\n",
       "        vertical-align: top;\n",
       "    }\n",
       "\n",
       "    .dataframe thead th {\n",
       "        text-align: right;\n",
       "    }\n",
       "</style>\n",
       "<table border=\"1\" class=\"dataframe\">\n",
       "  <thead>\n",
       "    <tr style=\"text-align: right;\">\n",
       "      <th></th>\n",
       "      <th>Betas</th>\n",
       "      <th>y</th>\n",
       "    </tr>\n",
       "  </thead>\n",
       "  <tbody>\n",
       "    <tr>\n",
       "      <th>0</th>\n",
       "      <td>-0.458020</td>\n",
       "      <td>NaN</td>\n",
       "    </tr>\n",
       "    <tr>\n",
       "      <th>1</th>\n",
       "      <td>0.340253</td>\n",
       "      <td>NaN</td>\n",
       "    </tr>\n",
       "  </tbody>\n",
       "</table>\n",
       "</div>"
      ],
      "text/plain": [
       "      Betas   y\n",
       "0 -0.458020 NaN\n",
       "1  0.340253 NaN"
      ]
     },
     "execution_count": 184,
     "metadata": {},
     "output_type": "execute_result"
    }
   ],
   "source": [
    "df_betas.head()"
   ]
  },
  {
   "cell_type": "code",
   "execution_count": 185,
   "metadata": {},
   "outputs": [],
   "source": [
    "y_train_predict = model.predict(X_train)\n",
    "y_test_predict = model.predict(X_test)"
   ]
  },
  {
   "cell_type": "code",
   "execution_count": 186,
   "metadata": {},
   "outputs": [
    {
     "data": {
      "text/plain": [
       "(0.0003914882728567326, 0.0007428065805908934)"
      ]
     },
     "execution_count": 186,
     "metadata": {},
     "output_type": "execute_result"
    }
   ],
   "source": [
    "model.score(X_train, y_train), model.score(X_test, y_test) \n",
    "#los R cuadrados de nuestro entrenamiento y test indican que las variables independientes no explican significativamente\n",
    "#la variable dependiente debido al bajo valor de los mismos"
   ]
  },
  {
   "cell_type": "code",
   "execution_count": 167,
   "metadata": {},
   "outputs": [
    {
     "data": {
      "image/png": "[encoded data removed]",
      "text/plain": [
       "<Figure size 864x576 with 1 Axes>"
      ]
     },
     "metadata": {},
     "output_type": "display_data"
    }
   ],
   "source": [
    "fig = plt.gcf()\n",
    "\n",
    "fig.set_size_inches(12, 8)\n",
    "\n",
    "sns.set()\n",
    "plt.scatter(y_train_predict, y_train, c='blue');\n",
    "#la grafica de las variables dependientes del entrenamiento y de la prediccion no muestran una relacion lineal"
   ]
  },
  {
   "cell_type": "code",
   "execution_count": 168,
   "metadata": {},
   "outputs": [
    {
     "data": {
      "text/plain": [
       "array([900. , 825. ,   1.1, ...,   1.1,   0. , 190. ])"
      ]
     },
     "execution_count": 168,
     "metadata": {},
     "output_type": "execute_result"
    }
   ],
   "source": [
    "y_train.values.flatten()"
   ]
  },
  {
   "cell_type": "code",
   "execution_count": 169,
   "metadata": {},
   "outputs": [
    {
     "data": {
      "text/html": [
       "<div>\n",
       "<style scoped>\n",
       "    .dataframe tbody tr th:only-of-type {\n",
       "        vertical-align: middle;\n",
       "    }\n",
       "\n",
       "    .dataframe tbody tr th {\n",
       "        vertical-align: top;\n",
       "    }\n",
       "\n",
       "    .dataframe thead th {\n",
       "        text-align: right;\n",
       "    }\n",
       "</style>\n",
       "<table border=\"1\" class=\"dataframe\">\n",
       "  <thead>\n",
       "    <tr style=\"text-align: right;\">\n",
       "      <th></th>\n",
       "      <th>y_real</th>\n",
       "      <th>y_predicha</th>\n",
       "    </tr>\n",
       "  </thead>\n",
       "  <tbody>\n",
       "    <tr>\n",
       "      <th>0</th>\n",
       "      <td>900.0</td>\n",
       "      <td>268.180155</td>\n",
       "    </tr>\n",
       "    <tr>\n",
       "      <th>1</th>\n",
       "      <td>825.0</td>\n",
       "      <td>275.259896</td>\n",
       "    </tr>\n",
       "    <tr>\n",
       "      <th>2</th>\n",
       "      <td>1.1</td>\n",
       "      <td>271.255482</td>\n",
       "    </tr>\n",
       "    <tr>\n",
       "      <th>3</th>\n",
       "      <td>1.7</td>\n",
       "      <td>268.062389</td>\n",
       "    </tr>\n",
       "    <tr>\n",
       "      <th>4</th>\n",
       "      <td>1.5</td>\n",
       "      <td>274.343509</td>\n",
       "    </tr>\n",
       "    <tr>\n",
       "      <th>5</th>\n",
       "      <td>270.0</td>\n",
       "      <td>272.223709</td>\n",
       "    </tr>\n",
       "    <tr>\n",
       "      <th>6</th>\n",
       "      <td>150.0</td>\n",
       "      <td>268.965382</td>\n",
       "    </tr>\n",
       "    <tr>\n",
       "      <th>7</th>\n",
       "      <td>1.0</td>\n",
       "      <td>267.630462</td>\n",
       "    </tr>\n",
       "    <tr>\n",
       "      <th>8</th>\n",
       "      <td>4.9</td>\n",
       "      <td>263.730768</td>\n",
       "    </tr>\n",
       "    <tr>\n",
       "      <th>9</th>\n",
       "      <td>2.0</td>\n",
       "      <td>269.868376</td>\n",
       "    </tr>\n",
       "  </tbody>\n",
       "</table>\n",
       "</div>"
      ],
      "text/plain": [
       "   y_real  y_predicha\n",
       "0   900.0  268.180155\n",
       "1   825.0  275.259896\n",
       "2     1.1  271.255482\n",
       "3     1.7  268.062389\n",
       "4     1.5  274.343509\n",
       "5   270.0  272.223709\n",
       "6   150.0  268.965382\n",
       "7     1.0  267.630462\n",
       "8     4.9  263.730768\n",
       "9     2.0  269.868376"
      ]
     },
     "execution_count": 169,
     "metadata": {},
     "output_type": "execute_result"
    }
   ],
   "source": [
    "df_y = pd.DataFrame(zip(y_train.values.flatten(), y_train_predict.flatten()),\n",
    "                    columns=['y_real', 'y_predicha'])\n",
    "df_y.head(10)"
   ]
  },
  {
   "cell_type": "code",
   "execution_count": 170,
   "metadata": {},
   "outputs": [
    {
     "data": {
      "text/html": [
       "<div>\n",
       "<style scoped>\n",
       "    .dataframe tbody tr th:only-of-type {\n",
       "        vertical-align: middle;\n",
       "    }\n",
       "\n",
       "    .dataframe tbody tr th {\n",
       "        vertical-align: top;\n",
       "    }\n",
       "\n",
       "    .dataframe thead th {\n",
       "        text-align: right;\n",
       "    }\n",
       "</style>\n",
       "<table border=\"1\" class=\"dataframe\">\n",
       "  <thead>\n",
       "    <tr style=\"text-align: right;\">\n",
       "      <th></th>\n",
       "      <th>y_real</th>\n",
       "      <th>y_predicha</th>\n",
       "      <th>error</th>\n",
       "    </tr>\n",
       "  </thead>\n",
       "  <tbody>\n",
       "    <tr>\n",
       "      <th>0</th>\n",
       "      <td>900.0</td>\n",
       "      <td>268.180155</td>\n",
       "      <td>631.819845</td>\n",
       "    </tr>\n",
       "    <tr>\n",
       "      <th>1</th>\n",
       "      <td>825.0</td>\n",
       "      <td>275.259896</td>\n",
       "      <td>549.740104</td>\n",
       "    </tr>\n",
       "    <tr>\n",
       "      <th>2</th>\n",
       "      <td>1.1</td>\n",
       "      <td>271.255482</td>\n",
       "      <td>-270.155482</td>\n",
       "    </tr>\n",
       "    <tr>\n",
       "      <th>3</th>\n",
       "      <td>1.7</td>\n",
       "      <td>268.062389</td>\n",
       "      <td>-266.362389</td>\n",
       "    </tr>\n",
       "    <tr>\n",
       "      <th>4</th>\n",
       "      <td>1.5</td>\n",
       "      <td>274.343509</td>\n",
       "      <td>-272.843509</td>\n",
       "    </tr>\n",
       "  </tbody>\n",
       "</table>\n",
       "</div>"
      ],
      "text/plain": [
       "   y_real  y_predicha       error\n",
       "0   900.0  268.180155  631.819845\n",
       "1   825.0  275.259896  549.740104\n",
       "2     1.1  271.255482 -270.155482\n",
       "3     1.7  268.062389 -266.362389\n",
       "4     1.5  274.343509 -272.843509"
      ]
     },
     "execution_count": 170,
     "metadata": {},
     "output_type": "execute_result"
    }
   ],
   "source": [
    "df_y['error'] = df_y['y_real'] - df_y['y_predicha']\n",
    "df_y.head()"
   ]
  },
  {
   "cell_type": "code",
   "execution_count": 171,
   "metadata": {},
   "outputs": [
    {
     "data": {
      "image/png": "[encoded data removed]",
      "text/plain": [
       "<Figure size 432x288 with 1 Axes>"
      ]
     },
     "metadata": {},
     "output_type": "display_data"
    }
   ],
   "source": [
    "sns.distplot(df_y['error'], fit=norm);"
   ]
  },
  {
   "cell_type": "code",
   "execution_count": 172,
   "metadata": {},
   "outputs": [
    {
     "data": {
      "text/plain": [
       "84392.60237280763"
      ]
     },
     "execution_count": 172,
     "metadata": {},
     "output_type": "execute_result"
    }
   ],
   "source": [
    "# Error medio cuadrado\n",
    "mean_squared_error(y_train, y_train_predict) # Entre más se acerque a cero mejor"
   ]
  },
  {
   "cell_type": "code",
   "execution_count": 187,
   "metadata": {},
   "outputs": [],
   "source": [
    "#A partir de aqui aplicamos nuestro modelo de regresion lineal\n",
    "x = col_model_3[['Stamina', 'SprintSpeed']]\n",
    "y = col_model[['Value']]"
   ]
  },
  {
   "cell_type": "code",
   "execution_count": 188,
   "metadata": {},
   "outputs": [
    {
     "name": "stdout",
     "output_type": "stream",
     "text": [
      "                            OLS Regression Results                            \n",
      "==============================================================================\n",
      "Dep. Variable:                  Value   R-squared:                       0.000\n",
      "Model:                            OLS   Adj. R-squared:                  0.000\n",
      "Method:                 Least Squares   F-statistic:                     4.454\n",
      "Date:                Mon, 09 May 2022   Prob (F-statistic):             0.0116\n",
      "Time:                        13:01:49   Log-Likelihood:            -1.2702e+05\n",
      "No. Observations:               17918   AIC:                         2.540e+05\n",
      "Df Residuals:                   17915   BIC:                         2.541e+05\n",
      "Df Model:                           2                                         \n",
      "Covariance Type:            nonrobust                                         \n",
      "===============================================================================\n",
      "                  coef    std err          t      P>|t|      [0.025      0.975]\n",
      "-------------------------------------------------------------------------------\n",
      "const         280.4297     10.390     26.991      0.000     260.065     300.795\n",
      "Stamina        -0.5173      0.174     -2.978      0.003      -0.858      -0.177\n",
      "SprintSpeed     0.3186      0.188      1.693      0.091      -0.050       0.688\n",
      "==============================================================================\n",
      "Omnibus:                     2098.571   Durbin-Watson:                   0.967\n",
      "Prob(Omnibus):                  0.000   Jarque-Bera (JB):             2259.025\n",
      "Skew:                           0.819   Prob(JB):                         0.00\n",
      "Kurtosis:                       2.413   Cond. No.                         444.\n",
      "==============================================================================\n",
      "\n",
      "Notes:\n",
      "[1] Standard Errors assume that the covariance matrix of the errors is correctly specified.\n"
     ]
    }
   ],
   "source": [
    "X = sm.add_constant(x)\n",
    "\n",
    "Y = y\n",
    "\n",
    "modelo = sm.OLS(Y,X).fit()\n",
    "print(modelo.summary())"
   ]
  },
  {
   "cell_type": "markdown",
   "metadata": {},
   "source": [
    "Report your findings from the model summary. In particular, report about the model as a whole using the F-test and how much variation is predicted by the model using the r squared."
   ]
  },
  {
   "cell_type": "code",
   "execution_count": 189,
   "metadata": {},
   "outputs": [],
   "source": [
    "# Your conclusions here:\n",
    "Se concluye que nuestro modelo no es eficiente porque nuestras variables independientes no explican de manera significativa\n",
    "a la variable dependiente con un valor de R2 de 0.0003 y un F estadistico de 4.45"
   ]
  },
  {
   "cell_type": "markdown",
   "metadata": {},
   "source": [
    "Next, create a second regression model predicting value using potential. Create the model using `statsmodels` and print the model summary. Remember to add a constant term."
   ]
  },
  {
   "cell_type": "code",
   "execution_count": 89,
   "metadata": {},
   "outputs": [
    {
     "data": {
      "text/html": [
       "<div>\n",
       "<style scoped>\n",
       "    .dataframe tbody tr th:only-of-type {\n",
       "        vertical-align: middle;\n",
       "    }\n",
       "\n",
       "    .dataframe tbody tr th {\n",
       "        vertical-align: top;\n",
       "    }\n",
       "\n",
       "    .dataframe thead th {\n",
       "        text-align: right;\n",
       "    }\n",
       "</style>\n",
       "<table border=\"1\" class=\"dataframe\">\n",
       "  <thead>\n",
       "    <tr style=\"text-align: right;\">\n",
       "      <th></th>\n",
       "      <th>Value</th>\n",
       "      <th>Potential</th>\n",
       "    </tr>\n",
       "  </thead>\n",
       "  <tbody>\n",
       "    <tr>\n",
       "      <th>0</th>\n",
       "      <td>110.5</td>\n",
       "      <td>94</td>\n",
       "    </tr>\n",
       "    <tr>\n",
       "      <th>1</th>\n",
       "      <td>77.0</td>\n",
       "      <td>94</td>\n",
       "    </tr>\n",
       "    <tr>\n",
       "      <th>2</th>\n",
       "      <td>118.5</td>\n",
       "      <td>93</td>\n",
       "    </tr>\n",
       "    <tr>\n",
       "      <th>3</th>\n",
       "      <td>72.0</td>\n",
       "      <td>93</td>\n",
       "    </tr>\n",
       "    <tr>\n",
       "      <th>4</th>\n",
       "      <td>102.0</td>\n",
       "      <td>92</td>\n",
       "    </tr>\n",
       "    <tr>\n",
       "      <th>...</th>\n",
       "      <td>...</td>\n",
       "      <td>...</td>\n",
       "    </tr>\n",
       "    <tr>\n",
       "      <th>18202</th>\n",
       "      <td>60.0</td>\n",
       "      <td>65</td>\n",
       "    </tr>\n",
       "    <tr>\n",
       "      <th>18203</th>\n",
       "      <td>60.0</td>\n",
       "      <td>63</td>\n",
       "    </tr>\n",
       "    <tr>\n",
       "      <th>18204</th>\n",
       "      <td>60.0</td>\n",
       "      <td>67</td>\n",
       "    </tr>\n",
       "    <tr>\n",
       "      <th>18205</th>\n",
       "      <td>60.0</td>\n",
       "      <td>66</td>\n",
       "    </tr>\n",
       "    <tr>\n",
       "      <th>18206</th>\n",
       "      <td>60.0</td>\n",
       "      <td>66</td>\n",
       "    </tr>\n",
       "  </tbody>\n",
       "</table>\n",
       "<p>17918 rows × 2 columns</p>\n",
       "</div>"
      ],
      "text/plain": [
       "       Value  Potential\n",
       "0      110.5         94\n",
       "1       77.0         94\n",
       "2      118.5         93\n",
       "3       72.0         93\n",
       "4      102.0         92\n",
       "...      ...        ...\n",
       "18202   60.0         65\n",
       "18203   60.0         63\n",
       "18204   60.0         67\n",
       "18205   60.0         66\n",
       "18206   60.0         66\n",
       "\n",
       "[17918 rows x 2 columns]"
      ]
     },
     "execution_count": 89,
     "metadata": {},
     "output_type": "execute_result"
    }
   ],
   "source": [
    "col_model2 = col_model[['Value', 'Potential']]\n",
    "col_model2"
   ]
  },
  {
   "cell_type": "code",
   "execution_count": 90,
   "metadata": {},
   "outputs": [
    {
     "name": "stdout",
     "output_type": "stream",
     "text": [
      "                            OLS Regression Results                            \n",
      "==============================================================================\n",
      "Dep. Variable:                  Value   R-squared:                       0.056\n",
      "Model:                            OLS   Adj. R-squared:                  0.056\n",
      "Method:                 Least Squares   F-statistic:                     1054.\n",
      "Date:                Sun, 08 May 2022   Prob (F-statistic):          9.15e-225\n",
      "Time:                        19:51:07   Log-Likelihood:            -1.2651e+05\n",
      "No. Observations:               17918   AIC:                         2.530e+05\n",
      "Df Residuals:                   17916   BIC:                         2.530e+05\n",
      "Df Model:                           1                                         \n",
      "Covariance Type:            nonrobust                                         \n",
      "==============================================================================\n",
      "                 coef    std err          t      P>|t|      [0.025      0.975]\n",
      "------------------------------------------------------------------------------\n",
      "const       1062.4312     24.547     43.281      0.000    1014.316    1110.546\n",
      "Potential    -11.1326      0.343    -32.469      0.000     -11.805     -10.461\n",
      "==============================================================================\n",
      "Omnibus:                     2018.008   Durbin-Watson:                   1.099\n",
      "Prob(Omnibus):                  0.000   Jarque-Bera (JB):             2748.489\n",
      "Skew:                           0.953   Prob(JB):                         0.00\n",
      "Kurtosis:                       2.780   Cond. No.                         834.\n",
      "==============================================================================\n",
      "\n",
      "Notes:\n",
      "[1] Standard Errors assume that the covariance matrix of the errors is correctly specified.\n"
     ]
    }
   ],
   "source": [
    "# Your code here:\n",
    "x = col_model2[['Potential']]\n",
    "y = col_model2[['Value']]\n",
    "\n",
    "X = sm.add_constant(x)\n",
    "\n",
    "Y = y\n",
    "\n",
    "modelo = sm.OLS(Y,X).fit()\n",
    "print(modelo.summary())"
   ]
  },
  {
   "cell_type": "markdown",
   "metadata": {},
   "source": [
    "Report your findings from the model summary. In particular, report about the model as a whole using the F-test and how much variation is predicted by the model using the r squared."
   ]
  },
  {
   "cell_type": "code",
   "execution_count": 13,
   "metadata": {},
   "outputs": [],
   "source": [
    "# Your conclusions here:\n",
    "Tampoco es eficiente nuestro modelo porque la variable independiente no explica significativamente la variable explicada \n",
    "con un nivel de R2 muy inferior siendo de 0.05"
   ]
  },
  {
   "cell_type": "markdown",
   "metadata": {},
   "source": [
    "Plot a scatter plot of value vs. potential. Do you see a linear relationship?"
   ]
  },
  {
   "cell_type": "code",
   "execution_count": 115,
   "metadata": {},
   "outputs": [
    {
     "data": {
      "image/png": "[encoded data removed]",
      "text/plain": [
       "<Figure size 864x576 with 1 Axes>"
      ]
     },
     "metadata": {},
     "output_type": "display_data"
    }
   ],
   "source": [
    "# Your code here:\n",
    "fig = plt.gcf()\n",
    "\n",
    "# Change seaborn plot size\n",
    "fig.set_size_inches(12, 8)\n",
    "\n",
    "sns.scatterplot(data = col_model2, x = \"Potential\", y = \"Value\")\n",
    "plt.title('Relationship between Value and Potential', fontsize=15)\n",
    "plt.xlabel('Potential', fontsize=15);\n",
    "plt.ylabel('Value', fontsize=15);\n",
    "\n",
    "plt.show();"
   ]
  },
  {
   "cell_type": "code",
   "execution_count": 95,
   "metadata": {},
   "outputs": [
    {
     "data": {
      "text/html": [
       "<div>\n",
       "<style scoped>\n",
       "    .dataframe tbody tr th:only-of-type {\n",
       "        vertical-align: middle;\n",
       "    }\n",
       "\n",
       "    .dataframe tbody tr th {\n",
       "        vertical-align: top;\n",
       "    }\n",
       "\n",
       "    .dataframe thead th {\n",
       "        text-align: right;\n",
       "    }\n",
       "</style>\n",
       "<table border=\"1\" class=\"dataframe\">\n",
       "  <thead>\n",
       "    <tr style=\"text-align: right;\">\n",
       "      <th></th>\n",
       "      <th>Value</th>\n",
       "      <th>Potential</th>\n",
       "    </tr>\n",
       "  </thead>\n",
       "  <tbody>\n",
       "    <tr>\n",
       "      <th>Value</th>\n",
       "      <td>1.000000</td>\n",
       "      <td>-0.235739</td>\n",
       "    </tr>\n",
       "    <tr>\n",
       "      <th>Potential</th>\n",
       "      <td>-0.235739</td>\n",
       "      <td>1.000000</td>\n",
       "    </tr>\n",
       "  </tbody>\n",
       "</table>\n",
       "</div>"
      ],
      "text/plain": [
       "              Value  Potential\n",
       "Value      1.000000  -0.235739\n",
       "Potential -0.235739   1.000000"
      ]
     },
     "execution_count": 95,
     "metadata": {},
     "output_type": "execute_result"
    }
   ],
   "source": [
    "col_model2.corr()"
   ]
  },
  {
   "cell_type": "code",
   "execution_count": null,
   "metadata": {},
   "outputs": [],
   "source": [
    "El coeficiente de correlacion entre las dos variables es negativo pero muy bajo, y en el grafico de dispresion no se aprecia\n",
    "una relacion entre las mismas"
   ]
  }
 ],
 "metadata": {
  "kernelspec": {
   "display_name": "Python 3 (ipykernel)",
   "language": "python",
   "name": "python3"
  },
  "language_info": {
   "codemirror_mode": {
    "name": "ipython",
    "version": 3
   },
   "file_extension": ".py",
   "mimetype": "text/x-python",
   "name": "python",
   "nbconvert_exporter": "python",
   "pygments_lexer": "ipython3",
   "version": "3.10.3"
  }
 },
 "nbformat": 4,
 "nbformat_minor": 2
}
